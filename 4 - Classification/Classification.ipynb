{
 "cells": [
  {
   "cell_type": "code",
   "execution_count": 17,
   "metadata": {},
   "outputs": [],
   "source": [
    "# Data processing\n",
    "import numpy as np\n",
    "import pandas as pd\n",
    "pd.options.display.max_columns = None\n",
    "\n",
    "# Graphing\n",
    "import seaborn as sns\n",
    "import matplotlib\n",
    "import matplotlib.pyplot as plt\n",
    "sns.set()\n",
    "%matplotlib inline\n",
    "matplotlib.rcParams['figure.figsize'] = (10, 8)\n",
    "\n",
    "# Modelling\n",
    "from sklearn.compose import ColumnTransformer\n",
    "from sklearn.ensemble import AdaBoostClassifier, RandomForestClassifier\n",
    "from sklearn.metrics import classification_report, plot_confusion_matrix\n",
    "from sklearn.model_selection import cross_val_score, train_test_split, RandomizedSearchCV\n",
    "from sklearn.pipeline import Pipeline\n",
    "from sklearn.preprocessing import OneHotEncoder\n",
    "\n",
    "# stats\n",
    "import scipy\n",
    "\n",
    "# Other\n",
    "import joblib\n",
    "from configparser import ConfigParser\n",
    "import psycopg2\n",
    "\n",
    "# Display all outputs\n",
    "from IPython.core.interactiveshell import InteractiveShell\n",
    "InteractiveShell.ast_node_interactivity = \"all\""
   ]
  },
  {
   "cell_type": "markdown",
   "metadata": {},
   "source": [
    "## Purpose"
   ]
  },
  {
   "cell_type": "markdown",
   "metadata": {},
   "source": [
    "For this classification task we will be constructing a model to contrast the crimes during daylight vs nighttime. We will only be focusing on data from Vancouver in 2018"
   ]
  },
  {
   "cell_type": "markdown",
   "metadata": {},
   "source": [
    "## Load data"
   ]
  },
  {
   "cell_type": "code",
   "execution_count": 2,
   "metadata": {},
   "outputs": [],
   "source": [
    "#Sourced from https://www.postgresqltutorial.com/postgresql-python/connect/\n",
    "def config(filename='psql.ini', section='postgresql'):\n",
    "    parser = ConfigParser()\n",
    "    # read config file\n",
    "    parser.read(filename) \n",
    " \n",
    "    # get section, default to postgresql\n",
    "    db = {}\n",
    "    if parser.has_section(section):\n",
    "        params = parser.items(section)\n",
    "        for param in params:\n",
    "            db[param[0]] = param[1]\n",
    "    else:\n",
    "        raise Exception('Section {0} not found in the {1} file'.format(section, filename))\n",
    " \n",
    "    return db"
   ]
  },
  {
   "cell_type": "code",
   "execution_count": 3,
   "metadata": {},
   "outputs": [],
   "source": [
    "# cfg = config('database.ini')\n",
    "\n",
    "# # Establish connection with database and get cursor\n",
    "# conn = psycopg2.connect(**cfg)\n",
    "# cursor = conn.cursor()\n",
    "\n",
    "# # Get all values from db\n",
    "# get_all_query = 'select * from \"CrimeDataMart\".crime_fact as f'\n",
    "# cursor.execute(get_all_query)\n",
    "# result_list = cursor.fetchall()\n"
   ]
  },
  {
   "cell_type": "code",
   "execution_count": 4,
   "metadata": {},
   "outputs": [],
   "source": [
    "# Load all tables and merge\n",
    "data_path = '../data/dimensional_model/'\n",
    "crime_dimension = pd.read_csv(data_path + 'crime_dimension.csv')\n",
    "date_dimension = pd.read_csv(data_path + 'date_dimension.csv')\n",
    "event_dimension = pd.read_csv(data_path + 'event_dimension.csv') \n",
    "location_dimension = pd.read_csv(data_path + 'location_dimension.csv')\n",
    "crimes_fact = pd.read_csv(data_path + 'crimes_fact.csv')\n",
    "\n",
    "all_crimes = crimes_fact.merge(crime_dimension, on = 'CRIME_PK', how = 'left')\n",
    "all_crimes = all_crimes.merge(date_dimension, on = 'DATE_PK', how = 'left')\n",
    "all_crimes = all_crimes.merge(location_dimension, on = 'LOCATION_PK', how = 'left')\n",
    "\n",
    "# Filter for Vancouver 2018\n",
    "all_crimes = all_crimes.query('CITY == \"Vancouver\" and YEAR == 2018')"
   ]
  },
  {
   "cell_type": "code",
   "execution_count": 5,
   "metadata": {},
   "outputs": [
    {
     "data": {
      "text/html": [
       "<div>\n",
       "<style scoped>\n",
       "    .dataframe tbody tr th:only-of-type {\n",
       "        vertical-align: middle;\n",
       "    }\n",
       "\n",
       "    .dataframe tbody tr th {\n",
       "        vertical-align: top;\n",
       "    }\n",
       "\n",
       "    .dataframe thead th {\n",
       "        text-align: right;\n",
       "    }\n",
       "</style>\n",
       "<table border=\"1\" class=\"dataframe\">\n",
       "  <thead>\n",
       "    <tr style=\"text-align: right;\">\n",
       "      <th></th>\n",
       "      <th>IS_TRAFFIC</th>\n",
       "      <th>IS_FATAL</th>\n",
       "      <th>IS_NIGHTTIME</th>\n",
       "      <th>DATE_PK</th>\n",
       "      <th>CRIME_PK</th>\n",
       "      <th>LOCATION_PK</th>\n",
       "      <th>EVENT_PK</th>\n",
       "      <th>FIRST_OCCURRENCE_TIME</th>\n",
       "      <th>LAST_OCCURRENCE_TIME</th>\n",
       "      <th>REPORTED_TIME</th>\n",
       "      <th>OFFENSE_TYPE</th>\n",
       "      <th>OFFENSE_CATEGORY</th>\n",
       "      <th>IS_VIOLENT</th>\n",
       "      <th>FULL_DATE</th>\n",
       "      <th>DAY</th>\n",
       "      <th>MONTH</th>\n",
       "      <th>YEAR</th>\n",
       "      <th>DAY_OF_YEAR</th>\n",
       "      <th>WEEK_OF_YEAR</th>\n",
       "      <th>WEEKDAY</th>\n",
       "      <th>IS_WEEKEND</th>\n",
       "      <th>QUARTER</th>\n",
       "      <th>IS_MONTH_START</th>\n",
       "      <th>IS_MONTH_END</th>\n",
       "      <th>IS_YEAR_START</th>\n",
       "      <th>IS_YEAR_END</th>\n",
       "      <th>IS_CAN_HOLIDAY</th>\n",
       "      <th>CAN_HOLIDAY_NAME</th>\n",
       "      <th>IS_US_HOLIDAY</th>\n",
       "      <th>US_HOLIDAY_NAME</th>\n",
       "      <th>LOCATION</th>\n",
       "      <th>NEIGHBORHOOD</th>\n",
       "      <th>LATITUDE</th>\n",
       "      <th>LONGITUDE</th>\n",
       "      <th>CITY</th>\n",
       "      <th>CRIME_RATE</th>\n",
       "    </tr>\n",
       "  </thead>\n",
       "  <tbody>\n",
       "    <tr>\n",
       "      <th>3</th>\n",
       "      <td>False</td>\n",
       "      <td>False</td>\n",
       "      <td>True</td>\n",
       "      <td>20180302</td>\n",
       "      <td>4</td>\n",
       "      <td>4</td>\n",
       "      <td>156</td>\n",
       "      <td>06:17:00</td>\n",
       "      <td>NaN</td>\n",
       "      <td>NaN</td>\n",
       "      <td>Burglary of a business with forced entry</td>\n",
       "      <td>Burglary</td>\n",
       "      <td>False</td>\n",
       "      <td>2018-03-02</td>\n",
       "      <td>2</td>\n",
       "      <td>3</td>\n",
       "      <td>2018</td>\n",
       "      <td>61</td>\n",
       "      <td>9</td>\n",
       "      <td>5</td>\n",
       "      <td>False</td>\n",
       "      <td>1</td>\n",
       "      <td>False</td>\n",
       "      <td>False</td>\n",
       "      <td>False</td>\n",
       "      <td>False</td>\n",
       "      <td>False</td>\n",
       "      <td>NaN</td>\n",
       "      <td>False</td>\n",
       "      <td>NaN</td>\n",
       "      <td>10XX ALBERNI ST</td>\n",
       "      <td>West End</td>\n",
       "      <td>49.284794</td>\n",
       "      <td>-123.122946</td>\n",
       "      <td>Vancouver</td>\n",
       "      <td>5485.315589</td>\n",
       "    </tr>\n",
       "    <tr>\n",
       "      <th>8</th>\n",
       "      <td>False</td>\n",
       "      <td>False</td>\n",
       "      <td>True</td>\n",
       "      <td>20180616</td>\n",
       "      <td>9</td>\n",
       "      <td>8</td>\n",
       "      <td>1</td>\n",
       "      <td>18:00:00</td>\n",
       "      <td>NaN</td>\n",
       "      <td>NaN</td>\n",
       "      <td>Burglary of a business with forced entry</td>\n",
       "      <td>Burglary</td>\n",
       "      <td>False</td>\n",
       "      <td>2018-06-16</td>\n",
       "      <td>16</td>\n",
       "      <td>6</td>\n",
       "      <td>2018</td>\n",
       "      <td>167</td>\n",
       "      <td>24</td>\n",
       "      <td>6</td>\n",
       "      <td>True</td>\n",
       "      <td>2</td>\n",
       "      <td>False</td>\n",
       "      <td>False</td>\n",
       "      <td>False</td>\n",
       "      <td>False</td>\n",
       "      <td>False</td>\n",
       "      <td>NaN</td>\n",
       "      <td>False</td>\n",
       "      <td>NaN</td>\n",
       "      <td>10XX ALBERNI ST</td>\n",
       "      <td>West End</td>\n",
       "      <td>49.284519</td>\n",
       "      <td>-123.122348</td>\n",
       "      <td>Vancouver</td>\n",
       "      <td>5485.315589</td>\n",
       "    </tr>\n",
       "    <tr>\n",
       "      <th>25</th>\n",
       "      <td>False</td>\n",
       "      <td>False</td>\n",
       "      <td>True</td>\n",
       "      <td>20181212</td>\n",
       "      <td>24</td>\n",
       "      <td>18</td>\n",
       "      <td>1</td>\n",
       "      <td>00:00:00</td>\n",
       "      <td>NaN</td>\n",
       "      <td>NaN</td>\n",
       "      <td>Burglary of a business with forced entry</td>\n",
       "      <td>Burglary</td>\n",
       "      <td>False</td>\n",
       "      <td>2018-12-12</td>\n",
       "      <td>12</td>\n",
       "      <td>12</td>\n",
       "      <td>2018</td>\n",
       "      <td>346</td>\n",
       "      <td>50</td>\n",
       "      <td>3</td>\n",
       "      <td>False</td>\n",
       "      <td>4</td>\n",
       "      <td>False</td>\n",
       "      <td>False</td>\n",
       "      <td>False</td>\n",
       "      <td>False</td>\n",
       "      <td>False</td>\n",
       "      <td>NaN</td>\n",
       "      <td>False</td>\n",
       "      <td>NaN</td>\n",
       "      <td>10XX BEACH AVE</td>\n",
       "      <td>West End</td>\n",
       "      <td>49.276572</td>\n",
       "      <td>-123.134358</td>\n",
       "      <td>Vancouver</td>\n",
       "      <td>5485.315589</td>\n",
       "    </tr>\n",
       "    <tr>\n",
       "      <th>33</th>\n",
       "      <td>False</td>\n",
       "      <td>False</td>\n",
       "      <td>True</td>\n",
       "      <td>20180409</td>\n",
       "      <td>28</td>\n",
       "      <td>22</td>\n",
       "      <td>1</td>\n",
       "      <td>06:00:00</td>\n",
       "      <td>NaN</td>\n",
       "      <td>NaN</td>\n",
       "      <td>Burglary of a business with forced entry</td>\n",
       "      <td>Burglary</td>\n",
       "      <td>False</td>\n",
       "      <td>2018-04-09</td>\n",
       "      <td>9</td>\n",
       "      <td>4</td>\n",
       "      <td>2018</td>\n",
       "      <td>99</td>\n",
       "      <td>15</td>\n",
       "      <td>1</td>\n",
       "      <td>False</td>\n",
       "      <td>2</td>\n",
       "      <td>False</td>\n",
       "      <td>False</td>\n",
       "      <td>False</td>\n",
       "      <td>False</td>\n",
       "      <td>False</td>\n",
       "      <td>NaN</td>\n",
       "      <td>False</td>\n",
       "      <td>NaN</td>\n",
       "      <td>10XX BEACH AVE</td>\n",
       "      <td>Central Business District</td>\n",
       "      <td>49.276180</td>\n",
       "      <td>-123.134055</td>\n",
       "      <td>Vancouver</td>\n",
       "      <td>5485.315589</td>\n",
       "    </tr>\n",
       "    <tr>\n",
       "      <th>41</th>\n",
       "      <td>False</td>\n",
       "      <td>False</td>\n",
       "      <td>False</td>\n",
       "      <td>20181002</td>\n",
       "      <td>38</td>\n",
       "      <td>26</td>\n",
       "      <td>1</td>\n",
       "      <td>18:31:00</td>\n",
       "      <td>NaN</td>\n",
       "      <td>NaN</td>\n",
       "      <td>Burglary of a business with forced entry</td>\n",
       "      <td>Burglary</td>\n",
       "      <td>False</td>\n",
       "      <td>2018-10-02</td>\n",
       "      <td>2</td>\n",
       "      <td>10</td>\n",
       "      <td>2018</td>\n",
       "      <td>275</td>\n",
       "      <td>40</td>\n",
       "      <td>2</td>\n",
       "      <td>False</td>\n",
       "      <td>4</td>\n",
       "      <td>False</td>\n",
       "      <td>False</td>\n",
       "      <td>False</td>\n",
       "      <td>False</td>\n",
       "      <td>False</td>\n",
       "      <td>NaN</td>\n",
       "      <td>False</td>\n",
       "      <td>NaN</td>\n",
       "      <td>10XX BEACH AVE</td>\n",
       "      <td>Central Business District</td>\n",
       "      <td>49.276070</td>\n",
       "      <td>-123.133924</td>\n",
       "      <td>Vancouver</td>\n",
       "      <td>5485.315589</td>\n",
       "    </tr>\n",
       "  </tbody>\n",
       "</table>\n",
       "</div>"
      ],
      "text/plain": [
       "    IS_TRAFFIC  IS_FATAL  IS_NIGHTTIME   DATE_PK  CRIME_PK  LOCATION_PK  \\\n",
       "3        False     False          True  20180302         4            4   \n",
       "8        False     False          True  20180616         9            8   \n",
       "25       False     False          True  20181212        24           18   \n",
       "33       False     False          True  20180409        28           22   \n",
       "41       False     False         False  20181002        38           26   \n",
       "\n",
       "    EVENT_PK FIRST_OCCURRENCE_TIME LAST_OCCURRENCE_TIME REPORTED_TIME  \\\n",
       "3        156              06:17:00                  NaN           NaN   \n",
       "8          1              18:00:00                  NaN           NaN   \n",
       "25         1              00:00:00                  NaN           NaN   \n",
       "33         1              06:00:00                  NaN           NaN   \n",
       "41         1              18:31:00                  NaN           NaN   \n",
       "\n",
       "                                OFFENSE_TYPE OFFENSE_CATEGORY  IS_VIOLENT  \\\n",
       "3   Burglary of a business with forced entry         Burglary       False   \n",
       "8   Burglary of a business with forced entry         Burglary       False   \n",
       "25  Burglary of a business with forced entry         Burglary       False   \n",
       "33  Burglary of a business with forced entry         Burglary       False   \n",
       "41  Burglary of a business with forced entry         Burglary       False   \n",
       "\n",
       "     FULL_DATE  DAY  MONTH  YEAR  DAY_OF_YEAR  WEEK_OF_YEAR  WEEKDAY  \\\n",
       "3   2018-03-02    2      3  2018           61             9        5   \n",
       "8   2018-06-16   16      6  2018          167            24        6   \n",
       "25  2018-12-12   12     12  2018          346            50        3   \n",
       "33  2018-04-09    9      4  2018           99            15        1   \n",
       "41  2018-10-02    2     10  2018          275            40        2   \n",
       "\n",
       "    IS_WEEKEND  QUARTER  IS_MONTH_START  IS_MONTH_END  IS_YEAR_START  \\\n",
       "3        False        1           False         False          False   \n",
       "8         True        2           False         False          False   \n",
       "25       False        4           False         False          False   \n",
       "33       False        2           False         False          False   \n",
       "41       False        4           False         False          False   \n",
       "\n",
       "    IS_YEAR_END  IS_CAN_HOLIDAY CAN_HOLIDAY_NAME  IS_US_HOLIDAY  \\\n",
       "3         False           False              NaN          False   \n",
       "8         False           False              NaN          False   \n",
       "25        False           False              NaN          False   \n",
       "33        False           False              NaN          False   \n",
       "41        False           False              NaN          False   \n",
       "\n",
       "   US_HOLIDAY_NAME         LOCATION               NEIGHBORHOOD   LATITUDE  \\\n",
       "3              NaN  10XX ALBERNI ST                   West End  49.284794   \n",
       "8              NaN  10XX ALBERNI ST                   West End  49.284519   \n",
       "25             NaN   10XX BEACH AVE                   West End  49.276572   \n",
       "33             NaN   10XX BEACH AVE  Central Business District  49.276180   \n",
       "41             NaN   10XX BEACH AVE  Central Business District  49.276070   \n",
       "\n",
       "     LONGITUDE       CITY   CRIME_RATE  \n",
       "3  -123.122946  Vancouver  5485.315589  \n",
       "8  -123.122348  Vancouver  5485.315589  \n",
       "25 -123.134358  Vancouver  5485.315589  \n",
       "33 -123.134055  Vancouver  5485.315589  \n",
       "41 -123.133924  Vancouver  5485.315589  "
      ]
     },
     "execution_count": 5,
     "metadata": {},
     "output_type": "execute_result"
    }
   ],
   "source": [
    "all_crimes.head(5)"
   ]
  },
  {
   "cell_type": "code",
   "execution_count": 6,
   "metadata": {},
   "outputs": [],
   "source": [
    "cols_keep = ['IS_TRAFFIC', 'IS_FATAL', 'IS_NIGHTTIME', 'OFFENSE_CATEGORY', 'IS_VIOLENT', 'DAY', 'MONTH', 'WEEKDAY', 'IS_WEEKEND', 'QUARTER', 'IS_CAN_HOLIDAY']\n",
    "all_crimes = all_crimes[cols_keep]\n",
    "\n",
    "# Split data into train and test\n",
    "\n",
    "X = all_crimes.drop('IS_NIGHTTIME', axis='columns')\n",
    "Y = all_crimes['IS_NIGHTTIME'].astype(int)\n",
    "\n",
    "X_train, X_test, Y_train, Y_test = train_test_split(X, Y, test_size = 0.2, random_state = 2)"
   ]
  },
  {
   "cell_type": "code",
   "execution_count": 7,
   "metadata": {},
   "outputs": [
    {
     "data": {
      "text/plain": [
       "ColumnTransformer(n_jobs=None, remainder='passthrough', sparse_threshold=0,\n",
       "                  transformer_weights=None,\n",
       "                  transformers=[('one_hot',\n",
       "                                 OneHotEncoder(categories='auto', drop=None,\n",
       "                                               dtype=<class 'numpy.float64'>,\n",
       "                                               handle_unknown='ignore',\n",
       "                                               sparse=True),\n",
       "                                 ['OFFENSE_CATEGORY'])],\n",
       "                  verbose=False)"
      ]
     },
     "execution_count": 7,
     "metadata": {},
     "output_type": "execute_result"
    }
   ],
   "source": [
    "# Preprocess columns\n",
    "\n",
    "column_trans = ColumnTransformer([\n",
    "    ('one_hot', OneHotEncoder(handle_unknown='ignore'), ['OFFENSE_CATEGORY'])\n",
    "], remainder='passthrough', sparse_threshold=0)\n",
    "\n",
    "column_trans.fit(X_train)\n",
    "X_train = column_trans.transform(X_train)\n",
    "X_test = column_trans.transform(X_test)"
   ]
  },
  {
   "cell_type": "code",
   "execution_count": 8,
   "metadata": {},
   "outputs": [
    {
     "data": {
      "text/plain": [
       "1    0.551559\n",
       "0    0.448441\n",
       "Name: IS_NIGHTTIME, dtype: float64"
      ]
     },
     "execution_count": 8,
     "metadata": {},
     "output_type": "execute_result"
    },
    {
     "data": {
      "image/png": "[encoded data removed]",
      "text/plain": [
       "<Figure size 720x576 with 1 Axes>"
      ]
     },
     "metadata": {
      "needs_background": "light"
     },
     "output_type": "display_data"
    }
   ],
   "source": [
    "g = sns.countplot(y=Y)\n",
    "\n",
    "Y.value_counts(normalize=True)"
   ]
  },
  {
   "cell_type": "markdown",
   "metadata": {},
   "source": [
    "Not too imbalanced, so we will not apply any class imbalance methods"
   ]
  },
  {
   "cell_type": "markdown",
   "metadata": {},
   "source": [
    "## Random Forest"
   ]
  },
  {
   "cell_type": "code",
   "execution_count": 9,
   "metadata": {},
   "outputs": [
    {
     "data": {
      "text/plain": [
       "array([0.75187707, 0.75128341, 0.74859353, 0.75387324, 0.74956278])"
      ]
     },
     "execution_count": 9,
     "metadata": {},
     "output_type": "execute_result"
    }
   ],
   "source": [
    "rf_clf = RandomForestClassifier(n_jobs=-1)\n",
    "cross_val_score(rf_clf, X_train, Y_train, scoring='f1')"
   ]
  },
  {
   "cell_type": "markdown",
   "metadata": {},
   "source": [
    "### Hyper parameter tuning"
   ]
  },
  {
   "cell_type": "code",
   "execution_count": 10,
   "metadata": {},
   "outputs": [
    {
     "name": "stdout",
     "output_type": "stream",
     "text": [
      "Fitting 5 folds for each of 50 candidates, totalling 250 fits\n"
     ]
    },
    {
     "name": "stderr",
     "output_type": "stream",
     "text": [
      "[Parallel(n_jobs=-1)]: Using backend LokyBackend with 4 concurrent workers.\n",
      "[Parallel(n_jobs=-1)]: Done  42 tasks      | elapsed:   59.6s\n",
      "[Parallel(n_jobs=-1)]: Done 192 tasks      | elapsed:  6.7min\n",
      "[Parallel(n_jobs=-1)]: Done 250 out of 250 | elapsed:  8.3min finished\n"
     ]
    },
    {
     "data": {
      "text/plain": [
       "RandomizedSearchCV(cv=5, error_score=nan,\n",
       "                   estimator=RandomForestClassifier(bootstrap=True,\n",
       "                                                    ccp_alpha=0.0,\n",
       "                                                    class_weight=None,\n",
       "                                                    criterion='gini',\n",
       "                                                    max_depth=None,\n",
       "                                                    max_features='auto',\n",
       "                                                    max_leaf_nodes=None,\n",
       "                                                    max_samples=None,\n",
       "                                                    min_impurity_decrease=0.0,\n",
       "                                                    min_impurity_split=None,\n",
       "                                                    min_samples_leaf=1,\n",
       "                                                    min_samples_split=2,\n",
       "                                                    min_weight_fraction_leaf=0.0,\n",
       "                                                    n_estimators=100, n_jobs...\n",
       "                                                    warm_start=False),\n",
       "                   iid='deprecated', n_iter=50, n_jobs=-1,\n",
       "                   param_distributions={'max_depth': [None, 2, 4, 7, 10, 20],\n",
       "                                        'min_samples_leaf': [1, 3, 5, 10],\n",
       "                                        'min_samples_split': [2, 5, 10],\n",
       "                                        'n_estimators': array([ 100,  200,  300,  400,  500,  600,  700,  800,  900, 1000, 1100,\n",
       "       1200, 1300, 1400])},\n",
       "                   pre_dispatch='2*n_jobs', random_state=None, refit=True,\n",
       "                   return_train_score=False, scoring='f1', verbose=1)"
      ]
     },
     "execution_count": 10,
     "metadata": {},
     "output_type": "execute_result"
    },
    {
     "data": {
      "text/plain": [
       "['random_forest_random_search.pkl']"
      ]
     },
     "execution_count": 10,
     "metadata": {},
     "output_type": "execute_result"
    }
   ],
   "source": [
    "params_dist = {\n",
    "    'n_estimators': np.arange(100, 1500, 100),\n",
    "    'max_depth': [None, 2, 4, 7, 10 , 20],\n",
    "    'min_samples_split': [2, 5, 10],\n",
    "    'min_samples_leaf': [1, 3, 5, 10]\n",
    "}\n",
    "\n",
    "rf_random_search = RandomizedSearchCV(rf_clf, params_dist, cv=5, n_iter=50, scoring='f1', n_jobs=-1, verbose=1)\n",
    "rf_random_search.fit(X_train, Y_train)\n",
    "\n",
    "# Save results\n",
    "joblib.dump(rf_random_search, 'random_forest_random_search.pkl')"
   ]
  },
  {
   "cell_type": "code",
   "execution_count": 11,
   "metadata": {},
   "outputs": [
    {
     "data": {
      "text/plain": [
       "0.7556650930559335"
      ]
     },
     "execution_count": 11,
     "metadata": {},
     "output_type": "execute_result"
    },
    {
     "data": {
      "text/plain": [
       "{'n_estimators': 1300,\n",
       " 'min_samples_split': 10,\n",
       " 'min_samples_leaf': 10,\n",
       " 'max_depth': 20}"
      ]
     },
     "execution_count": 11,
     "metadata": {},
     "output_type": "execute_result"
    }
   ],
   "source": [
    "rf_random_search.best_score_\n",
    "rf_random_search.best_params_"
   ]
  },
  {
   "cell_type": "markdown",
   "metadata": {},
   "source": [
    "## AdaBoost"
   ]
  },
  {
   "cell_type": "code",
   "execution_count": 12,
   "metadata": {},
   "outputs": [
    {
     "data": {
      "text/plain": [
       "array([0.72243346, 0.72292596, 0.72307415, 0.73412769, 0.71904417])"
      ]
     },
     "execution_count": 12,
     "metadata": {},
     "output_type": "execute_result"
    }
   ],
   "source": [
    "ada_boost_clf = AdaBoostClassifier()\n",
    "cross_val_score(ada_boost_clf, X_train, Y_train, scoring='f1')"
   ]
  },
  {
   "cell_type": "markdown",
   "metadata": {},
   "source": [
    "### Hyper parameter tuning"
   ]
  },
  {
   "cell_type": "code",
   "execution_count": 13,
   "metadata": {},
   "outputs": [
    {
     "name": "stdout",
     "output_type": "stream",
     "text": [
      "Fitting 5 folds for each of 20 candidates, totalling 100 fits\n"
     ]
    },
    {
     "name": "stderr",
     "output_type": "stream",
     "text": [
      "[Parallel(n_jobs=-1)]: Using backend LokyBackend with 4 concurrent workers.\n",
      "[Parallel(n_jobs=-1)]: Done  42 tasks      | elapsed:  5.7min\n",
      "[Parallel(n_jobs=-1)]: Done 100 out of 100 | elapsed: 13.8min finished\n"
     ]
    },
    {
     "data": {
      "text/plain": [
       "RandomizedSearchCV(cv=5, error_score=nan,\n",
       "                   estimator=AdaBoostClassifier(algorithm='SAMME.R',\n",
       "                                                base_estimator=None,\n",
       "                                                learning_rate=1.0,\n",
       "                                                n_estimators=50,\n",
       "                                                random_state=None),\n",
       "                   iid='deprecated', n_iter=20, n_jobs=-1,\n",
       "                   param_distributions={'algorithm': ['SAMME', 'SAMME.R'],\n",
       "                                        'learning_rate': [0.0001, 0.001, 0.01,\n",
       "                                                          0.1, 1, 10],\n",
       "                                        'n_estimators': array([  50,  100,  150,  200,  250,  300,  350,  400,  450,  500,  550,\n",
       "        600,  650,  700,  750,  800,  850,  900,  950, 1000, 1050, 1100,\n",
       "       1150, 1200, 1250, 1300, 1350, 1400, 1450])},\n",
       "                   pre_dispatch='2*n_jobs', random_state=None, refit=True,\n",
       "                   return_train_score=False, scoring='f1', verbose=1)"
      ]
     },
     "execution_count": 13,
     "metadata": {},
     "output_type": "execute_result"
    },
    {
     "data": {
      "text/plain": [
       "['ada_boost_random_search.pkl']"
      ]
     },
     "execution_count": 13,
     "metadata": {},
     "output_type": "execute_result"
    }
   ],
   "source": [
    "params_dist = {\n",
    "    'n_estimators': np.arange(50, 1500, 50),\n",
    "    'learning_rate': [1e-4, 1e-3, 1e-2, 1e-1, 1, 10],\n",
    "    'algorithm': ['SAMME', 'SAMME.R']\n",
    "}\n",
    "\n",
    "ada_boost_random_search = RandomizedSearchCV(ada_boost_clf, params_dist, cv=5, n_iter=20, scoring='f1', n_jobs=-1, verbose=1)\n",
    "ada_boost_random_search.fit(X_train, Y_train)\n",
    "\n",
    "# Save results\n",
    "joblib.dump(rf_random_search, 'ada_boost_random_search.pkl')"
   ]
  },
  {
   "cell_type": "code",
   "execution_count": 14,
   "metadata": {},
   "outputs": [
    {
     "data": {
      "text/plain": [
       "0.7274914416255484"
      ]
     },
     "execution_count": 14,
     "metadata": {},
     "output_type": "execute_result"
    },
    {
     "data": {
      "text/plain": [
       "{'n_estimators': 350, 'learning_rate': 1, 'algorithm': 'SAMME.R'}"
      ]
     },
     "execution_count": 14,
     "metadata": {},
     "output_type": "execute_result"
    }
   ],
   "source": [
    "ada_boost_random_search.best_score_\n",
    "ada_boost_random_search.best_params_"
   ]
  },
  {
   "cell_type": "markdown",
   "metadata": {},
   "source": [
    "## Final scores"
   ]
  },
  {
   "cell_type": "markdown",
   "metadata": {},
   "source": [
    "Overall, random forest performs better with lower cross-validated f1-score. However, we'll just plot both of their scores on the test set."
   ]
  },
  {
   "cell_type": "markdown",
   "metadata": {},
   "source": [
    "**Random Forest**"
   ]
  },
  {
   "cell_type": "code",
   "execution_count": 19,
   "metadata": {},
   "outputs": [
    {
     "name": "stdout",
     "output_type": "stream",
     "text": [
      "              precision    recall  f1-score   support\n",
      "\n",
      "           0       0.68      0.84      0.75      3126\n",
      "           1       0.84      0.68      0.75      3859\n",
      "\n",
      "    accuracy                           0.75      6985\n",
      "   macro avg       0.76      0.76      0.75      6985\n",
      "weighted avg       0.77      0.75      0.75      6985\n",
      "\n"
     ]
    }
   ],
   "source": [
    "rf_pred = rf_random_search.best_estimator_.predict(X_test)\n",
    "print(classification_report(Y_test, rf_pred))"
   ]
  },
  {
   "cell_type": "code",
   "execution_count": 23,
   "metadata": {},
   "outputs": [
    {
     "data": {
      "image/png": "[encoded data removed]",
      "text/plain": [
       "<Figure size 720x576 with 2 Axes>"
      ]
     },
     "metadata": {
      "needs_background": "light"
     },
     "output_type": "display_data"
    }
   ],
   "source": [
    "p = plot_confusion_matrix(rf_random_search.best_estimator_, X_test, Y_test)"
   ]
  },
  {
   "cell_type": "markdown",
   "metadata": {},
   "source": [
    "**AdaBoost**"
   ]
  },
  {
   "cell_type": "code",
   "execution_count": 20,
   "metadata": {},
   "outputs": [
    {
     "name": "stdout",
     "output_type": "stream",
     "text": [
      "              precision    recall  f1-score   support\n",
      "\n",
      "           0       0.67      0.81      0.73      3126\n",
      "           1       0.81      0.68      0.74      3859\n",
      "\n",
      "    accuracy                           0.73      6985\n",
      "   macro avg       0.74      0.74      0.73      6985\n",
      "weighted avg       0.75      0.73      0.73      6985\n",
      "\n"
     ]
    }
   ],
   "source": [
    "ada_boost_pred = ada_boost_random_search.best_estimator_.predict(X_test)\n",
    "print(classification_report(Y_test, ada_boost_pred))"
   ]
  },
  {
   "cell_type": "code",
   "execution_count": 24,
   "metadata": {},
   "outputs": [
    {
     "data": {
      "image/png": "[encoded data removed]",
      "text/plain": [
       "<Figure size 720x576 with 2 Axes>"
      ]
     },
     "metadata": {
      "needs_background": "light"
     },
     "output_type": "display_data"
    }
   ],
   "source": [
    "p = plot_confusion_matrix(ada_boost_random_search.best_estimator_, X_test, Y_test)"
   ]
  },
  {
   "cell_type": "markdown",
   "metadata": {},
   "source": [
    "## Lessons learned"
   ]
  },
  {
   "cell_type": "markdown",
   "metadata": {},
   "source": [
    "- understanding hyperparameters for random forest and ada boost\n",
    "- learned how to do randomized searching with scikit learn\n",
    "- cross-validation as method of estimating test error\n"
   ]
  }
 ],
 "metadata": {
  "kernelspec": {
   "display_name": "Python [conda env:crime-datamart]",
   "language": "python",
   "name": "conda-env-crime-datamart-py"
  },
  "language_info": {
   "codemirror_mode": {
    "name": "ipython",
    "version": 3
   },
   "file_extension": ".py",
   "mimetype": "text/x-python",
   "name": "python",
   "nbconvert_exporter": "python",
   "pygments_lexer": "ipython3",
   "version": "3.7.7"
  }
 },
 "nbformat": 4,
 "nbformat_minor": 4
}
