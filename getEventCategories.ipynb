{
 "cells": [
  {
   "cell_type": "code",
   "execution_count": 85,
   "metadata": {},
   "outputs": [],
   "source": [
    "import eventful\n",
    "import pandas as pd"
   ]
  },
  {
   "cell_type": "code",
   "execution_count": 100,
   "metadata": {},
   "outputs": [],
   "source": [
    "vancouver_data_path = '../data/vancouver_crime_data/'"
   ]
  },
  {
   "cell_type": "code",
   "execution_count": 101,
   "metadata": {},
   "outputs": [],
   "source": [
    "vancouver_crimes = pd.read_csv(vancouver_data_path + 'crimedata_csv_all_years.csv')"
   ]
  },
  {
   "cell_type": "code",
   "execution_count": 3,
   "metadata": {},
   "outputs": [],
   "source": [
    "#calls api\n",
    "api = eventful.API('fbBmPcgShvdtGwvZ', cache='.cache')"
   ]
  },
  {
   "cell_type": "code",
   "execution_count": 102,
   "metadata": {},
   "outputs": [],
   "source": [
    "#Searches for events that matches the criteria\n",
    "events = api.call('/events/search', l='Vancouver', t='2012042500')"
   ]
  },
  {
   "cell_type": "code",
   "execution_count": 103,
   "metadata": {},
   "outputs": [
    {
     "name": "stdout",
     "output_type": "stream",
     "text": [
      "Event E0-001-127512121-5: ( 6-8 yrs) Musical Theatre at -123.1332991 and 49.2696375 from 2020-04-04 00:00:00 to 2020-06-20 00:00:00\n",
      "Event E0-001-127511964-5: ( 3-5 yrs) Dress Up Drama at -123.1332991 and 49.2696375 from 2020-04-09 00:00:00 to 2020-06-18 00:00:00\n",
      "Event E0-001-127512584-0: ( 3-5 yrs) Dress Up Drama at -123.1332991 and 49.2696375 from 2020-04-06 00:00:00 to 2020-06-22 00:00:00\n",
      "Event E0-001-127509742-2: ( 9-12 yrs) Drawing & Painting at -123.1332991 and 49.2696375 from 2020-04-06 00:00:00 to 2020-06-22 00:00:00\n",
      "Event E0-001-127488017-1: ( 3-5 yrs) Mixed Media & Sculpture at -123.1332991 and 49.2696375 from 2020-04-06 00:00:00 to 2020-06-22 00:00:00\n",
      "Event E0-001-127509551-2: (13-19 yrs) Graphic Novel & Comics Creation at -123.1332991 and 49.2696375 from 2020-04-06 00:00:00 to 2020-06-22 00:00:00\n",
      "Event E0-001-127502809-7: ( 3-5 yrs) Making Music - Immersion at -123.1332991 and 49.2696375 from 2020-04-07 00:00:00 to 2020-06-16 00:00:00\n",
      "Event E0-001-127497917-4: ( 2-3 yrs) Parent & Me Visual Arts at -123.1332991 and 49.2696375 from 2020-04-06 00:00:00 to 2020-06-22 00:00:00\n",
      "Event E0-001-127503078-2: ( 9-12 yrs) Acting for the Camera at -123.1332991 and 49.2696375 from 2020-04-05 00:00:00 to 2020-06-21 00:00:00\n",
      "Event E0-001-127503268-3: ( 3-5 yrs) Half Day Immersion (Art & Movement) at -123.1332991 and 49.2696375 from 2020-04-06 00:00:00 to 2020-06-22 00:00:00\n"
     ]
    }
   ],
   "source": [
    "#Prints events\n",
    "for event in events['events']['event']:\n",
    "    print(\"Event %s: %s at %s and %s from %s to %s\" % (event['id'],event['title'], event['longitude'], event['latitude'],event['start_time'],event['stop_time']))"
   ]
  },
  {
   "cell_type": "code",
   "execution_count": 46,
   "metadata": {},
   "outputs": [],
   "source": [
    "#calls the get method to obtain info on an event\n",
    "categories = api.call('/events/get',id = 'E0-001-133444790-4')"
   ]
  },
  {
   "cell_type": "code",
   "execution_count": 77,
   "metadata": {},
   "outputs": [
    {
     "name": "stdout",
     "output_type": "stream",
     "text": [
      "comedy\n",
      "food\n",
      "community\n",
      "singles_social\n"
     ]
    }
   ],
   "source": [
    "#prints list of categories for an event\n",
    "for category in categories['categories']['category']:\n",
    "    print(category['id'])"
   ]
  },
  {
   "cell_type": "code",
   "execution_count": 99,
   "metadata": {},
   "outputs": [
    {
     "name": "stdout",
     "output_type": "stream",
     "text": [
      "{'category': [{'name': 'Comedy', 'id': 'comedy'}, {'name': 'Food &amp; Wine', 'id': 'food'}, {'name': 'Neighborhood', 'id': 'community'}, {'name': 'Nightlife &amp; Singles', 'id': 'singles_social'}]}\n"
     ]
    }
   ],
   "source": [
    "#A visual for how a category dict looks like\n",
    "print(categories.get('categories'))"
   ]
  },
  {
   "cell_type": "code",
   "execution_count": null,
   "metadata": {},
   "outputs": [],
   "source": []
  }
 ],
 "metadata": {
  "kernelspec": {
   "display_name": "Python 3",
   "language": "python",
   "name": "python3"
  },
  "language_info": {
   "codemirror_mode": {
    "name": "ipython",
    "version": 3
   },
   "file_extension": ".py",
   "mimetype": "text/x-python",
   "name": "python",
   "nbconvert_exporter": "python",
   "pygments_lexer": "ipython3",
   "version": "3.7.3"
  }
 },
 "nbformat": 4,
 "nbformat_minor": 2
}
