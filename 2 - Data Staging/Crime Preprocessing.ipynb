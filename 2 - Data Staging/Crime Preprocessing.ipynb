{
 "cells": [
  {
   "cell_type": "code",
   "execution_count": 43,
   "metadata": {},
   "outputs": [],
   "source": [
    "import pandas as pd\n",
    "pd.options.display.max_rows = 100\n",
    "pd.options.display.max_columns = 0\n",
    "\n",
    "from datetime import datetime\n",
    "from datetime import time\n",
    "\n",
    "# Display all outputs\n",
    "from IPython.core.interactiveshell import InteractiveShell\n",
    "InteractiveShell.ast_node_interactivity = \"all\""
   ]
  },
  {
   "cell_type": "markdown",
   "metadata": {},
   "source": [
    "#### Still need to add neighborhood stats and crime severity index and holiday and crime rate. Use astral to get nighttime"
   ]
  },
  {
   "cell_type": "markdown",
   "metadata": {},
   "source": [
    "# Background"
   ]
  },
  {
   "cell_type": "markdown",
   "metadata": {},
   "source": [
    "Currently there is crime data for Denver and Vancouver but they are in different formats. The goal is to preprocess Denver and Vancouver crime data so they are in a consistent format and then combine them together\n",
    "\n",
    "The data can be obtained from \n",
    "- Denver -  https://www.denvergov.org/opendata/dataset/city-and-county-of-denver-crime\n",
    "- Vancouver https://geodash.vpd.ca/opendata/"
   ]
  },
  {
   "cell_type": "markdown",
   "metadata": {},
   "source": [
    "# Denver Crime data"
   ]
  },
  {
   "cell_type": "code",
   "execution_count": 44,
   "metadata": {},
   "outputs": [],
   "source": [
    "denver_data_path = '../data/denver_crime_data/'\n",
    "\n",
    "denver_crimes = pd.read_csv(denver_data_path + 'crime_denver.csv')"
   ]
  },
  {
   "cell_type": "markdown",
   "metadata": {},
   "source": [
    "## Null"
   ]
  },
  {
   "cell_type": "code",
   "execution_count": 45,
   "metadata": {},
   "outputs": [
    {
     "name": "stdout",
     "output_type": "stream",
     "text": [
      "<class 'pandas.core.frame.DataFrame'>\n",
      "RangeIndex: 462640 entries, 0 to 462639\n",
      "Data columns (total 19 columns):\n",
      " #   Column                  Non-Null Count   Dtype  \n",
      "---  ------                  --------------   -----  \n",
      " 0   INCIDENT_ID             462640 non-null  int64  \n",
      " 1   OFFENSE_ID              462640 non-null  int64  \n",
      " 2   OFFENSE_CODE            462640 non-null  int64  \n",
      " 3   OFFENSE_CODE_EXTENSION  462640 non-null  int64  \n",
      " 4   OFFENSE_TYPE_ID         462640 non-null  object \n",
      " 5   OFFENSE_CATEGORY_ID     462640 non-null  object \n",
      " 6   FIRST_OCCURRENCE_DATE   462640 non-null  object \n",
      " 7   LAST_OCCURRENCE_DATE    145740 non-null  object \n",
      " 8   REPORTED_DATE           462640 non-null  object \n",
      " 9   INCIDENT_ADDRESS        418765 non-null  object \n",
      " 10  GEO_X                   458649 non-null  float64\n",
      " 11  GEO_Y                   458649 non-null  float64\n",
      " 12  GEO_LON                 458649 non-null  float64\n",
      " 13  GEO_LAT                 458649 non-null  float64\n",
      " 14  DISTRICT_ID             462640 non-null  int64  \n",
      " 15  PRECINCT_ID             462640 non-null  int64  \n",
      " 16  NEIGHBORHOOD_ID         462640 non-null  object \n",
      " 17  IS_CRIME                462640 non-null  int64  \n",
      " 18  IS_TRAFFIC              462640 non-null  int64  \n",
      "dtypes: float64(4), int64(8), object(7)\n",
      "memory usage: 67.1+ MB\n"
     ]
    }
   ],
   "source": [
    "denver_crimes.info()"
   ]
  },
  {
   "cell_type": "code",
   "execution_count": 46,
   "metadata": {},
   "outputs": [
    {
     "data": {
      "text/plain": [
       "INCIDENT_ID                0.000000\n",
       "OFFENSE_ID                 0.000000\n",
       "OFFENSE_CODE               0.000000\n",
       "OFFENSE_CODE_EXTENSION     0.000000\n",
       "OFFENSE_TYPE_ID            0.000000\n",
       "OFFENSE_CATEGORY_ID        0.000000\n",
       "FIRST_OCCURRENCE_DATE      0.000000\n",
       "LAST_OCCURRENCE_DATE      68.498184\n",
       "REPORTED_DATE              0.000000\n",
       "INCIDENT_ADDRESS           9.483616\n",
       "GEO_X                      0.862658\n",
       "GEO_Y                      0.862658\n",
       "GEO_LON                    0.862658\n",
       "GEO_LAT                    0.862658\n",
       "DISTRICT_ID                0.000000\n",
       "PRECINCT_ID                0.000000\n",
       "NEIGHBORHOOD_ID            0.000000\n",
       "IS_CRIME                   0.000000\n",
       "IS_TRAFFIC                 0.000000\n",
       "dtype: float64"
      ]
     },
     "execution_count": 46,
     "metadata": {},
     "output_type": "execute_result"
    }
   ],
   "source": [
    "denver_crimes.isnull().mean() * 100"
   ]
  },
  {
   "cell_type": "markdown",
   "metadata": {},
   "source": [
    "For now, we'll leave the null values as is  \n",
    "\n",
    "- Incident address has 9.5% missing values which is decent so we'll keep these rows. We will leave them as null since no way to impute and doens't make sense to put a default value or potentially label them as 'MISSING'\n",
    "- Last occurence date could either be because crime happens instantly and doesn't last long OR the last occurence date is missing. Because there is no information and there's a significant 68.5% of nulls, we will keep it and leave it as is\n",
    "- X and Y will not be included in the dimension so it will be ignored\n",
    "- Missing Long and Lat only make up 0.86% of the samples. We will impute them using the means of the Long/Lat of their corresponding neighborhood"
   ]
  },
  {
   "cell_type": "code",
   "execution_count": 47,
   "metadata": {},
   "outputs": [],
   "source": [
    "# Impute Long and Lat using means of corresponding neighborhood coordinates\n",
    "\n",
    "mean_coordinates = denver_crimes.groupby(\"NEIGHBORHOOD_ID\")[['GEO_LON', 'GEO_LAT']].mean()\n",
    "        \n",
    "joined_coordinates = denver_crimes.drop(['GEO_LON', 'GEO_LAT'], axis=1).merge(mean_coordinates, \n",
    "                                                                             how = 'inner',\n",
    "                                                                             on = 'NEIGHBORHOOD_ID', \n",
    "                                                                             right_index = True)\n",
    "\n",
    "index = denver_crimes['GEO_LON'] != denver_crimes['GEO_LON']\n",
    "denver_crimes.loc[index] = joined_coordinates.loc[index]"
   ]
  },
  {
   "cell_type": "code",
   "execution_count": 48,
   "metadata": {},
   "outputs": [
    {
     "data": {
      "text/plain": [
       "INCIDENT_ID                0.000000\n",
       "OFFENSE_ID                 0.000000\n",
       "OFFENSE_CODE               0.000000\n",
       "OFFENSE_CODE_EXTENSION     0.000000\n",
       "OFFENSE_TYPE_ID            0.000000\n",
       "OFFENSE_CATEGORY_ID        0.000000\n",
       "FIRST_OCCURRENCE_DATE      0.000000\n",
       "LAST_OCCURRENCE_DATE      68.498184\n",
       "REPORTED_DATE              0.000000\n",
       "INCIDENT_ADDRESS           9.483616\n",
       "GEO_X                      0.862658\n",
       "GEO_Y                      0.862658\n",
       "GEO_LON                    0.000000\n",
       "GEO_LAT                    0.000000\n",
       "DISTRICT_ID                0.000000\n",
       "PRECINCT_ID                0.000000\n",
       "NEIGHBORHOOD_ID            0.000000\n",
       "IS_CRIME                   0.000000\n",
       "IS_TRAFFIC                 0.000000\n",
       "dtype: float64"
      ]
     },
     "execution_count": 48,
     "metadata": {},
     "output_type": "execute_result"
    }
   ],
   "source": [
    "denver_crimes.isnull().mean() * 100"
   ]
  },
  {
   "cell_type": "markdown",
   "metadata": {},
   "source": [
    "## Dimensions"
   ]
  },
  {
   "cell_type": "markdown",
   "metadata": {},
   "source": [
    "Prep columns for creating dimensions later"
   ]
  },
  {
   "cell_type": "markdown",
   "metadata": {},
   "source": [
    "### Date"
   ]
  },
  {
   "cell_type": "code",
   "execution_count": 49,
   "metadata": {},
   "outputs": [
    {
     "data": {
      "text/plain": [
       "0         15\n",
       "1         29\n",
       "2         26\n",
       "3         30\n",
       "4         23\n",
       "          ..\n",
       "462635     2\n",
       "462636     4\n",
       "462637    28\n",
       "462638    17\n",
       "462639    27\n",
       "Name: REPORTED_DATE, Length: 462640, dtype: int64"
      ]
     },
     "execution_count": 49,
     "metadata": {},
     "output_type": "execute_result"
    }
   ],
   "source": [
    "pd.to_datetime(denver_crimes.REPORTED_DATE, format = \"%m/%d/%Y %H:%M:%S %p\").dt.day"
   ]
  },
  {
   "cell_type": "code",
   "execution_count": 50,
   "metadata": {},
   "outputs": [],
   "source": [
    "# Convert to datetime\n",
    "\n",
    "fmt = \"%m/%d/%Y %H:%M:%S %p\"\n",
    "\n",
    "denver_crimes['REPORTED_DATE'] = pd.to_datetime(denver_crimes['REPORTED_DATE'], format = fmt)\n",
    "denver_crimes['FIRST_OCCURRENCE_DATE'] = pd.to_datetime(denver_crimes['FIRST_OCCURRENCE_DATE'], format = fmt)\n",
    "denver_crimes['LAST_OCCURRENCE_DATE'] = pd.to_datetime(denver_crimes['LAST_OCCURRENCE_DATE'], format = fmt)\n",
    "\n",
    "# denver_crimes['REPORTED_DATE'] = pd.DatetimeIndex(denver_crimes['REPORTED_DATE'], dayfirst = False)\n",
    "# denver_crimes['FIRST_OCCURRENCE_DATE'] = pd.DatetimeIndex(denver_crimes['FIRST_OCCURRENCE_DATE'], dayfirst = False)\n",
    "# denver_crimes['LAST_OCCURRENCE_DATE'] = pd.DatetimeIndex(denver_crimes['LAST_OCCURRENCE_DATE'], dayfirst = False)"
   ]
  },
  {
   "cell_type": "markdown",
   "metadata": {},
   "source": [
    "For date, we'll set it to be based on the First occurence date of when the crime happened"
   ]
  },
  {
   "cell_type": "code",
   "execution_count": 51,
   "metadata": {},
   "outputs": [],
   "source": [
    "# Set date attributes\n",
    "# Day of week starts at 0 - Monday\n",
    "# Months and days start at 1\n",
    "\n",
    "# denver_crimes['DAY'] = denver_crimes['FIRST_OCCURRENCE_DATE'].dt.day\n",
    "# denver_crimes['MONTH'] = denver_crimes['FIRST_OCCURRENCE_DATE'].dt.month\n",
    "# denver_crimes['YEAR'] = denver_crimes['FIRST_OCCURRENCE_DATE'].dt.year\n",
    "# denver_crimes['DAY_OF_YEAR'] = denver_crimes['FIRST_OCCURRENCE_DATE'].dt.dayofyear\n",
    "# denver_crimes['WEEK_OF_YEAR'] = denver_crimes['FIRST_OCCURRENCE_DATE'].dt.weekofyear\n",
    "# denver_crimes['WEEKDAY'] = denver_crimes['FIRST_OCCURRENCE_DATE'].dt.weekday + 1\n",
    "# denver_crimes['QUARTER'] = denver_crimes['FIRST_OCCURRENCE_DATE'].dt.quarter\n",
    "# denver_crimes['IS_MONTH_START'] = denver_crimes['FIRST_OCCURRENCE_DATE'].dt.is_month_start\n",
    "# denver_crimes['IS_MONTH_END'] = denver_crimes['FIRST_OCCURRENCE_DATE'].dt.is_month_end\n",
    "# denver_crimes['IS_YEAR_START'] = denver_crimes['FIRST_OCCURRENCE_DATE'].dt.is_year_start\n",
    "# denver_crimes['IS_YEAR_END'] = denver_crimes['FIRST_OCCURRENCE_DATE'].dt.is_year_end\n",
    "\n",
    "\n",
    "# Set times\n",
    "denver_crimes['FIRST_OCCURRENCE_TIME'] = denver_crimes.FIRST_OCCURRENCE_DATE.dt.time\n",
    "denver_crimes['REPORTED_TIME'] = denver_crimes.REPORTED_DATE.dt.time\n",
    "denver_crimes['LAST_OCCURRENCE_TIME'] = denver_crimes.LAST_OCCURRENCE_DATE.dt.time\n",
    "denver_crimes['FIRST_OCCURRENCE_DATE'] = denver_crimes.FIRST_OCCURRENCE_DATE.dt.date\n",
    "\n",
    "# Set missing Last occurence dates to None instead of NaT\n",
    "denver_crimes.loc[denver_crimes.LAST_OCCURRENCE_TIME.isnull(), 'LAST_OCCURRENCE_TIME'] = None"
   ]
  },
  {
   "cell_type": "markdown",
   "metadata": {},
   "source": [
    "### Location"
   ]
  },
  {
   "cell_type": "code",
   "execution_count": 52,
   "metadata": {},
   "outputs": [],
   "source": [
    "# Add city\n",
    "\n",
    "denver_crimes['CITY'] = 'Denver'"
   ]
  },
  {
   "cell_type": "code",
   "execution_count": 53,
   "metadata": {},
   "outputs": [],
   "source": [
    "# Get neighborhood name from neighborhood id - Just convert kebab case to upper case\n",
    "\n",
    "def capitalize_title(id: str) -> str:\n",
    "    '''\n",
    "    Capitalizes kebab case id\n",
    "    '''\n",
    "    words = id.split('-')\n",
    "    words = [word.capitalize() for word in words]\n",
    "    title = ' '.join(words)\n",
    "    return title \n",
    "\n",
    "\n",
    "neighborhood_ids = list(set(denver_crimes.NEIGHBORHOOD_ID))\n",
    "neighborhood_names = [capitalize_title(id) for id in neighborhood_ids]\n",
    "neighborhood_mappings = pd.DataFrame({'NEIGHBORHOOD_ID': neighborhood_ids, 'NEIGHBORHOOD_NAME': neighborhood_names})\n",
    "\n",
    "# Set Cbd to CBD and Dia to DIA\n",
    "neighborhood_mappings.loc[neighborhood_mappings.NEIGHBORHOOD_ID == 'dia', 'NEIGHBORHOOD_NAME'] = 'DIA'\n",
    "neighborhood_mappings.loc[neighborhood_mappings.NEIGHBORHOOD_ID == 'cbd', 'NEIGHBORHOOD_NAME'] = 'CBD'\n",
    "\n",
    "# Join to get neighbourhood names\n",
    "denver_crimes = denver_crimes.merge(neighborhood_mappings, how = 'left', on = 'NEIGHBORHOOD_ID')"
   ]
  },
  {
   "cell_type": "markdown",
   "metadata": {},
   "source": [
    "### Crime"
   ]
  },
  {
   "cell_type": "code",
   "execution_count": 54,
   "metadata": {},
   "outputs": [],
   "source": [
    "# Add offense type and category names \n",
    "\n",
    "offense_codes = pd.read_csv(denver_data_path + 'offense_codes.csv')[['OFFENSE_CODE', 'OFFENSE_CODE_EXTENSION', 'OFFENSE_TYPE_NAME', 'OFFENSE_CATEGORY_NAME']]\n",
    "\n",
    "denver_crimes = denver_crimes.merge(offense_codes, on = ['OFFENSE_CODE', 'OFFENSE_CODE_EXTENSION'])"
   ]
  },
  {
   "cell_type": "markdown",
   "metadata": {},
   "source": [
    "Add Violent/Non-Violent category based on offense category"
   ]
  },
  {
   "cell_type": "code",
   "execution_count": 55,
   "metadata": {},
   "outputs": [],
   "source": [
    "# Mapping of category to violent/non-violent\n",
    "\n",
    "violent_mappings = [\n",
    "    ('Aggravated Assault', True),\n",
    "    ('All Other Crimes', False),\n",
    "    ('Arson', False),\n",
    "    ('Auto Theft', False),\n",
    "    ('Burglary', False),\n",
    "    ('Drug & Alcohol', False),\n",
    "    ('Larceny', False),\n",
    "    ('Murder', True),\n",
    "    ('Other Crimes Against Persons', False),\n",
    "    ('Public Disorder', False),\n",
    "    ('Robbery', False),\n",
    "    ('Sexual Assault', True),\n",
    "    ('Theft from Motor Vehicle', False),\n",
    "    ('Traffic Accident', False),\n",
    "    ('White Collar Crime', False)\n",
    "]\n",
    "\n",
    "violent_mappings = pd.DataFrame(violent_mappings, columns = ['OFFENSE_CATEGORY_NAME', 'IS_VIOLENT'])\n",
    "\n",
    "denver_crimes = denver_crimes.merge(violent_mappings, how = 'left', on = 'OFFENSE_CATEGORY_NAME')"
   ]
  },
  {
   "cell_type": "markdown",
   "metadata": {},
   "source": [
    "## Facts"
   ]
  },
  {
   "cell_type": "markdown",
   "metadata": {},
   "source": [
    "Add facts/measures to each row since each row represents a crime"
   ]
  },
  {
   "cell_type": "markdown",
   "metadata": {},
   "source": [
    "Simply define nighttime to be 8pm - 5am"
   ]
  },
  {
   "cell_type": "code",
   "execution_count": 56,
   "metadata": {},
   "outputs": [],
   "source": [
    "# Is Traffic is already present\n",
    "denver_crimes.IS_TRAFFIC = denver_crimes.IS_TRAFFIC.apply(bool)\n",
    "\n",
    "# Is Fatal\n",
    "denver_crimes['IS_FATAL'] = denver_crimes.OFFENSE_CATEGORY_NAME == 'Murder'\n",
    "\n",
    "# Is Nighttime\n",
    "night_start = time(hour = 20, minute = 0, second = 0)\n",
    "night_end = time(hour = 5, minute = 0, second = 0)\n",
    "denver_crimes['IS_NIGHTTIME'] = (denver_crimes.FIRST_OCCURRENCE_TIME > night_start) | (denver_crimes.FIRST_OCCURRENCE_TIME < night_end)"
   ]
  },
  {
   "cell_type": "markdown",
   "metadata": {},
   "source": [
    "## Reformat dataframe"
   ]
  },
  {
   "cell_type": "markdown",
   "metadata": {},
   "source": [
    "Reformat the dataframe columns to match with closer desired dimension columns"
   ]
  },
  {
   "cell_type": "code",
   "execution_count": 57,
   "metadata": {},
   "outputs": [],
   "source": [
    "# Drop unused columns\n",
    "cols_drop = ['INCIDENT_ID', 'OFFENSE_ID', 'OFFENSE_CODE', 'OFFENSE_CODE_EXTENSION', 'OFFENSE_TYPE_ID', 'OFFENSE_CATEGORY_ID', 'GEO_X', 'GEO_Y',\n",
    "             'DISTRICT_ID', 'PRECINCT_ID', 'NEIGHBORHOOD_ID', 'IS_CRIME', 'LAST_OCCURRENCE_DATE', 'REPORTED_DATE']\n",
    "denver_crimes.drop(cols_drop, axis = 1, inplace = True)"
   ]
  },
  {
   "cell_type": "code",
   "execution_count": 58,
   "metadata": {},
   "outputs": [],
   "source": [
    "# Rename cols\n",
    "denver_crimes = denver_crimes.rename(\n",
    "    columns = {'GEO_LON': 'LONGITUDE', \n",
    "               'GEO_LAT': 'LATITUDE',\n",
    "               'OFFENSE_TYPE_NAME': 'OFFENSE_TYPE',\n",
    "               'OFFENSE_CATEGORY_NAME': 'OFFENSE_CATEGORY',\n",
    "               'NEIGHBORHOOD_NAME': 'NEIGHBORHOOD',\n",
    "               'INCIDENT_ADDRESS': 'LOCATION'}\n",
    ")"
   ]
  },
  {
   "cell_type": "code",
   "execution_count": 59,
   "metadata": {},
   "outputs": [
    {
     "data": {
      "text/html": [
       "<div>\n",
       "<style scoped>\n",
       "    .dataframe tbody tr th:only-of-type {\n",
       "        vertical-align: middle;\n",
       "    }\n",
       "\n",
       "    .dataframe tbody tr th {\n",
       "        vertical-align: top;\n",
       "    }\n",
       "\n",
       "    .dataframe thead th {\n",
       "        text-align: right;\n",
       "    }\n",
       "</style>\n",
       "<table border=\"1\" class=\"dataframe\">\n",
       "  <thead>\n",
       "    <tr style=\"text-align: right;\">\n",
       "      <th></th>\n",
       "      <th>FIRST_OCCURRENCE_DATE</th>\n",
       "      <th>LOCATION</th>\n",
       "      <th>LONGITUDE</th>\n",
       "      <th>LATITUDE</th>\n",
       "      <th>IS_TRAFFIC</th>\n",
       "      <th>FIRST_OCCURRENCE_TIME</th>\n",
       "      <th>REPORTED_TIME</th>\n",
       "      <th>LAST_OCCURRENCE_TIME</th>\n",
       "      <th>CITY</th>\n",
       "      <th>NEIGHBORHOOD</th>\n",
       "      <th>OFFENSE_TYPE</th>\n",
       "      <th>OFFENSE_CATEGORY</th>\n",
       "      <th>IS_VIOLENT</th>\n",
       "      <th>IS_FATAL</th>\n",
       "      <th>IS_NIGHTTIME</th>\n",
       "    </tr>\n",
       "  </thead>\n",
       "  <tbody>\n",
       "    <tr>\n",
       "      <th>0</th>\n",
       "      <td>2016-06-15</td>\n",
       "      <td>NaN</td>\n",
       "      <td>-104.809881</td>\n",
       "      <td>39.773188</td>\n",
       "      <td>False</td>\n",
       "      <td>11:31:00</td>\n",
       "      <td>11:31:00</td>\n",
       "      <td>None</td>\n",
       "      <td>Denver</td>\n",
       "      <td>Montbello</td>\n",
       "      <td>Unlawful discharge of a weapon</td>\n",
       "      <td>All Other Crimes</td>\n",
       "      <td>False</td>\n",
       "      <td>False</td>\n",
       "      <td>False</td>\n",
       "    </tr>\n",
       "    <tr>\n",
       "      <th>1</th>\n",
       "      <td>2018-01-30</td>\n",
       "      <td>12900 BLOCK E ANDREWS DR</td>\n",
       "      <td>-104.841184</td>\n",
       "      <td>39.784667</td>\n",
       "      <td>False</td>\n",
       "      <td>10:14:00</td>\n",
       "      <td>10:14:00</td>\n",
       "      <td>None</td>\n",
       "      <td>Denver</td>\n",
       "      <td>Montbello</td>\n",
       "      <td>Unlawful discharge of a weapon</td>\n",
       "      <td>All Other Crimes</td>\n",
       "      <td>False</td>\n",
       "      <td>False</td>\n",
       "      <td>False</td>\n",
       "    </tr>\n",
       "    <tr>\n",
       "      <th>2</th>\n",
       "      <td>2018-01-28</td>\n",
       "      <td>14000 BLK E MAXWELL PL</td>\n",
       "      <td>-104.824755</td>\n",
       "      <td>39.793246</td>\n",
       "      <td>False</td>\n",
       "      <td>01:30:00</td>\n",
       "      <td>04:26:00</td>\n",
       "      <td>01:30:00</td>\n",
       "      <td>Denver</td>\n",
       "      <td>Montbello</td>\n",
       "      <td>Unlawful discharge of a weapon</td>\n",
       "      <td>All Other Crimes</td>\n",
       "      <td>False</td>\n",
       "      <td>False</td>\n",
       "      <td>True</td>\n",
       "    </tr>\n",
       "    <tr>\n",
       "      <th>3</th>\n",
       "      <td>2018-01-30</td>\n",
       "      <td>1700 BLOCK E BRUCE RANDOLPH AVE</td>\n",
       "      <td>-104.966880</td>\n",
       "      <td>39.764431</td>\n",
       "      <td>False</td>\n",
       "      <td>11:08:00</td>\n",
       "      <td>08:43:00</td>\n",
       "      <td>None</td>\n",
       "      <td>Denver</td>\n",
       "      <td>Cole</td>\n",
       "      <td>Unlawful discharge of a weapon</td>\n",
       "      <td>All Other Crimes</td>\n",
       "      <td>False</td>\n",
       "      <td>False</td>\n",
       "      <td>False</td>\n",
       "    </tr>\n",
       "    <tr>\n",
       "      <th>4</th>\n",
       "      <td>2018-04-17</td>\n",
       "      <td>900 BLOCK N NEWTON ST</td>\n",
       "      <td>-105.037222</td>\n",
       "      <td>39.731791</td>\n",
       "      <td>False</td>\n",
       "      <td>02:29:00</td>\n",
       "      <td>02:48:00</td>\n",
       "      <td>None</td>\n",
       "      <td>Denver</td>\n",
       "      <td>Villa Park</td>\n",
       "      <td>Unlawful discharge of a weapon</td>\n",
       "      <td>All Other Crimes</td>\n",
       "      <td>False</td>\n",
       "      <td>False</td>\n",
       "      <td>True</td>\n",
       "    </tr>\n",
       "  </tbody>\n",
       "</table>\n",
       "</div>"
      ],
      "text/plain": [
       "  FIRST_OCCURRENCE_DATE                         LOCATION   LONGITUDE  ...  IS_VIOLENT  IS_FATAL IS_NIGHTTIME\n",
       "0            2016-06-15                              NaN -104.809881  ...       False     False        False\n",
       "1            2018-01-30         12900 BLOCK E ANDREWS DR -104.841184  ...       False     False        False\n",
       "2            2018-01-28           14000 BLK E MAXWELL PL -104.824755  ...       False     False         True\n",
       "3            2018-01-30  1700 BLOCK E BRUCE RANDOLPH AVE -104.966880  ...       False     False        False\n",
       "4            2018-04-17            900 BLOCK N NEWTON ST -105.037222  ...       False     False         True\n",
       "\n",
       "[5 rows x 15 columns]"
      ]
     },
     "execution_count": 59,
     "metadata": {},
     "output_type": "execute_result"
    },
    {
     "data": {
      "text/plain": [
       "FIRST_OCCURRENCE_DATE     0.000000\n",
       "LOCATION                  9.483616\n",
       "LONGITUDE                 0.000000\n",
       "LATITUDE                  0.000000\n",
       "IS_TRAFFIC                0.000000\n",
       "FIRST_OCCURRENCE_TIME     0.000000\n",
       "REPORTED_TIME             0.000000\n",
       "LAST_OCCURRENCE_TIME     68.498184\n",
       "CITY                      0.000000\n",
       "NEIGHBORHOOD              0.000000\n",
       "OFFENSE_TYPE              0.000000\n",
       "OFFENSE_CATEGORY          0.000000\n",
       "IS_VIOLENT                0.000000\n",
       "IS_FATAL                  0.000000\n",
       "IS_NIGHTTIME              0.000000\n",
       "dtype: float64"
      ]
     },
     "execution_count": 59,
     "metadata": {},
     "output_type": "execute_result"
    }
   ],
   "source": [
    "# Check final preprocessed data\n",
    "\n",
    "denver_crimes.head(5)\n",
    "denver_crimes.isnull().mean() * 100"
   ]
  },
  {
   "cell_type": "code",
   "execution_count": 60,
   "metadata": {},
   "outputs": [],
   "source": [
    "# Save preprocessed crime data\n",
    "\n",
    "denver_crimes.to_csv(denver_data_path + 'crime_denver_preprocessed.csv', index = False)"
   ]
  },
  {
   "cell_type": "markdown",
   "metadata": {},
   "source": [
    "---"
   ]
  },
  {
   "cell_type": "markdown",
   "metadata": {},
   "source": [
    "# Vancouver Crime data"
   ]
  },
  {
   "cell_type": "code",
   "execution_count": 61,
   "metadata": {},
   "outputs": [],
   "source": [
    "vancouver_data_path = '../data/vancouver_crime_data/'\n",
    "\n",
    "vancouver_crimes = pd.read_csv(vancouver_data_path + 'crimedata_csv_all_years.csv')"
   ]
  },
  {
   "cell_type": "markdown",
   "metadata": {},
   "source": [
    "## Convert X Y to Longitude Latitude using"
   ]
  },
  {
   "cell_type": "markdown",
   "metadata": {},
   "source": [
    "Using https://webapp.geod.nrcan.gc.ca/geod/tools-outils/trx.php"
   ]
  },
  {
   "cell_type": "code",
   "execution_count": 62,
   "metadata": {},
   "outputs": [],
   "source": [
    "# Set format for tool\n",
    "vancouver_crimes.rename(columns = {'X': 'utm_e', 'Y': 'utm_n'}, inplace = True)\n",
    "vancouver_crimes['height'] = 0\n",
    "vancouver_crimes['utm_z'] = 'utm10'\n",
    "\n",
    "# Save\n",
    "vancouver_crimes.to_csv(vancouver_data_path + 'crime_vancouver_prep.csv', index = False)"
   ]
  },
  {
   "cell_type": "markdown",
   "metadata": {},
   "source": [
    "Upload crime_data_prep file to site with settings UTM/MTM/Sterero UTM10 to Geographic. "
   ]
  },
  {
   "cell_type": "code",
   "execution_count": 63,
   "metadata": {},
   "outputs": [],
   "source": [
    "# Add longitude and latitude and reformat\n",
    "geographic_data = pd.read_csv(vancouver_data_path + 'TRX_2020-02-18_52723.csv')\n",
    "vancouver_crimes.rename(columns = {'utm_e': 'X', 'utm_n': 'Y'}, inplace = True)\n",
    "vancouver_crimes.drop(['height', 'utm_z'], axis = 1, inplace = True)\n",
    "vancouver_crimes[['Latitude', 'Longitude']]= geographic_data[['lat', 'lon']]\n",
    "\n",
    "# Save \n",
    "vancouver_crimes.to_csv(vancouver_data_path + 'crime_vancouver.csv', index = False)"
   ]
  },
  {
   "cell_type": "markdown",
   "metadata": {},
   "source": [
    "## Null values"
   ]
  },
  {
   "cell_type": "code",
   "execution_count": 64,
   "metadata": {},
   "outputs": [],
   "source": [
    "# Load saved data\n",
    "vancouver_crimes = pd.read_csv(vancouver_data_path + 'crime_vancouver.csv')"
   ]
  },
  {
   "cell_type": "code",
   "execution_count": 65,
   "metadata": {},
   "outputs": [
    {
     "name": "stdout",
     "output_type": "stream",
     "text": [
      "<class 'pandas.core.frame.DataFrame'>\n",
      "RangeIndex: 634278 entries, 0 to 634277\n",
      "Data columns (total 12 columns):\n",
      " #   Column         Non-Null Count   Dtype  \n",
      "---  ------         --------------   -----  \n",
      " 0   TYPE           634278 non-null  object \n",
      " 1   YEAR           634278 non-null  int64  \n",
      " 2   MONTH          634278 non-null  int64  \n",
      " 3   DAY            634278 non-null  int64  \n",
      " 4   HOUR           634278 non-null  int64  \n",
      " 5   MINUTE         634278 non-null  int64  \n",
      " 6   HUNDRED_BLOCK  634265 non-null  object \n",
      " 7   NEIGHBOURHOOD  568455 non-null  object \n",
      " 8   X              634157 non-null  float64\n",
      " 9   Y              634157 non-null  float64\n",
      " 10  Latitude       634278 non-null  float64\n",
      " 11  Longitude      634278 non-null  float64\n",
      "dtypes: float64(4), int64(5), object(3)\n",
      "memory usage: 58.1+ MB\n"
     ]
    }
   ],
   "source": [
    "vancouver_crimes.info()"
   ]
  },
  {
   "cell_type": "code",
   "execution_count": 66,
   "metadata": {},
   "outputs": [
    {
     "data": {
      "text/plain": [
       "TYPE              0.000000\n",
       "YEAR              0.000000\n",
       "MONTH             0.000000\n",
       "DAY               0.000000\n",
       "HOUR              0.000000\n",
       "MINUTE            0.000000\n",
       "HUNDRED_BLOCK     0.002050\n",
       "NEIGHBOURHOOD    10.377626\n",
       "X                 0.019077\n",
       "Y                 0.019077\n",
       "Latitude          0.000000\n",
       "Longitude         0.000000\n",
       "dtype: float64"
      ]
     },
     "execution_count": 66,
     "metadata": {},
     "output_type": "execute_result"
    }
   ],
   "source": [
    "vancouver_crimes.isnull().mean() * 100"
   ]
  },
  {
   "cell_type": "markdown",
   "metadata": {},
   "source": [
    "Null X and Y from the using tool above give non null Longitude and Latitude, just set them to null"
   ]
  },
  {
   "cell_type": "code",
   "execution_count": 67,
   "metadata": {},
   "outputs": [],
   "source": [
    "vancouver_crimes.loc[vancouver_crimes['X'].isnull(), ['Longitude', 'Latitude'] ] = [None, None]"
   ]
  },
  {
   "cell_type": "markdown",
   "metadata": {},
   "source": [
    "There are some default values used to indicate null/missing values in the data (seems that most are for privacy reasons). We will replace them with null so it is explicit\n",
    "\n",
    "- Location variables for HUNDRED_BLOCK = \"OFFSET TO PROTECT PRIVACY\" should be all null. \"Coordinates data for records with “Offset to Protect Privacy” was not disclosed to provide privacy protection\"\n",
    "\n",
    "- HUNDRED_BLOCK = \"X NK_LOC ST\" is default location for incidents with unknown location and is geolocated to 312 Main street. Set the coordinates to None instead and replace hundredblock with \"UNKNOWN\" so it is clear it is unknown and not missing due to error\n",
    "\n",
    "- For \"Offences Against a Person\" crime type, time data isn't given so HOUR and MINUTE should be null whereas they are currently default value 0 so we will replace with nulls"
   ]
  },
  {
   "cell_type": "code",
   "execution_count": 68,
   "metadata": {},
   "outputs": [],
   "source": [
    "# Ensure default values for nulls are actually replaced with nulls\n",
    "vancouver_crimes.loc[vancouver_crimes['HUNDRED_BLOCK'] == 'OFFSET TO PROTECT PRIVACY', ['X', 'Y', 'Latitude', 'Longitude'] ] = [None, None, None, None]\n",
    "vancouver_crimes.loc[vancouver_crimes['TYPE'] == 'Offence Against a Person', ['HOUR', 'MINUTE'] ] = [None, None]\n",
    "\n",
    "# Default location for X NK_LOC ST\n",
    "vancouver_crimes.loc[vancouver_crimes['HUNDRED_BLOCK'] == 'X NK_LOC ST', ['HUNDRED_BLOCK', 'X', 'Y', 'Latitude', 'Longitude']] = ['UNKNOWN', None, None, None, None]\n"
   ]
  },
  {
   "cell_type": "code",
   "execution_count": 69,
   "metadata": {},
   "outputs": [
    {
     "data": {
      "text/plain": [
       "TYPE                 0\n",
       "YEAR                 0\n",
       "MONTH                0\n",
       "DAY                  0\n",
       "HOUR             62902\n",
       "MINUTE           62902\n",
       "HUNDRED_BLOCK       13\n",
       "NEIGHBOURHOOD    65823\n",
       "X                65799\n",
       "Y                65799\n",
       "Latitude         65799\n",
       "Longitude        65799\n",
       "dtype: int64"
      ]
     },
     "execution_count": 69,
     "metadata": {},
     "output_type": "execute_result"
    },
    {
     "data": {
      "text/plain": [
       "TYPE              0.000000\n",
       "YEAR              0.000000\n",
       "MONTH             0.000000\n",
       "DAY               0.000000\n",
       "HOUR              9.917103\n",
       "MINUTE            9.917103\n",
       "HUNDRED_BLOCK     0.002050\n",
       "NEIGHBOURHOOD    10.377626\n",
       "X                10.373842\n",
       "Y                10.373842\n",
       "Latitude         10.373842\n",
       "Longitude        10.373842\n",
       "dtype: float64"
      ]
     },
     "execution_count": 69,
     "metadata": {},
     "output_type": "execute_result"
    }
   ],
   "source": [
    "# View current nulls\n",
    "vancouver_crimes.isnull().sum()\n",
    "vancouver_crimes.isnull().mean() * 100"
   ]
  },
  {
   "cell_type": "markdown",
   "metadata": {},
   "source": [
    "How we'll handle each of the columns with null values\n",
    "\n",
    "- Hour and Minute correspond to crime types of Offences against a Person. Since we need this data for is_night in the fact table, our only options are to either make the is_night measure null for these rows OR to remove all crimes of Offences against a Person. https://www.kimballgroup.com/2003/02/design-tip-43-dealing-with-nulls-in-the-dimensional-model/ based on link we will leave the Hour and Minute as null and keep the rows\n",
    "\n",
    "- Hundred block, only 13 missing rows (most likely due to data errors). We will keep them as it still has good information\n",
    "\n",
    "- Neighbourhood with 10% missing rows. Keep them as no way to impute and still provides good crime information\n",
    "\n",
    "- Longitude and latitude, cannot impute as we did for Denver as neighbourhood is also missing in some cases. Keep them anyway for same reason as above\n",
    "\n",
    "- X and Y will be dropped later "
   ]
  },
  {
   "cell_type": "markdown",
   "metadata": {},
   "source": [
    "## Dimensions"
   ]
  },
  {
   "cell_type": "markdown",
   "metadata": {},
   "source": [
    "Prep columns for creating dimensions later"
   ]
  },
  {
   "cell_type": "markdown",
   "metadata": {},
   "source": [
    "### Date"
   ]
  },
  {
   "cell_type": "markdown",
   "metadata": {},
   "source": [
    "According to the PDF data description for Vancouver, the times and dates correspond to when the crime occurred"
   ]
  },
  {
   "cell_type": "code",
   "execution_count": 70,
   "metadata": {},
   "outputs": [],
   "source": [
    "# Set date attributes\n",
    "# Day of week starts at 0 - Monday\n",
    "# Months and days start at 1\n",
    "\n",
    "fmt = \"%Y/%m/%d\"\n",
    "dates = vancouver_crimes['YEAR'].apply(str) + '/' + vancouver_crimes['MONTH'].apply(str) + '/' + vancouver_crimes['DAY'].apply(str)\n",
    "datetime = pd.DatetimeIndex(pd.to_datetime(dates, format = fmt))\n",
    "\n",
    "# vancouver_crimes['DAY_OF_YEAR'] = datetime.dayofyear\n",
    "# vancouver_crimes['WEEK_OF_YEAR'] = datetime.weekofyear\n",
    "# vancouver_crimes['WEEKDAY'] = datetime.weekday + 1\n",
    "# vancouver_crimes['QUARTER'] = datetime.quarter\n",
    "# vancouver_crimes['IS_MONTH_START'] = datetime.is_month_start\n",
    "# vancouver_crimes['IS_MONTH_END'] = datetime.is_month_end\n",
    "# vancouver_crimes['IS_YEAR_START'] = datetime.is_year_start\n",
    "# vancouver_crimes['IS_YEAR_END'] = datetime.is_year_end\n",
    "vancouver_crimes['FIRST_OCCURRENCE_DATE'] = datetime.date"
   ]
  },
  {
   "cell_type": "markdown",
   "metadata": {},
   "source": [
    "### Location"
   ]
  },
  {
   "cell_type": "code",
   "execution_count": 71,
   "metadata": {},
   "outputs": [],
   "source": [
    "# Add city\n",
    "\n",
    "vancouver_crimes['CITY'] = 'Vancouver'"
   ]
  },
  {
   "cell_type": "markdown",
   "metadata": {},
   "source": [
    "### Crime"
   ]
  },
  {
   "cell_type": "code",
   "execution_count": 72,
   "metadata": {},
   "outputs": [],
   "source": [
    "# Add crime times\n",
    "\n",
    "subset = ~vancouver_crimes.HOUR.isnull()\n",
    "\n",
    "\n",
    "fmt = \"%Y/%m/%d %H:%M:%S\"\n",
    "times = \"2000/01/01 \" + vancouver_crimes.loc[subset, 'HOUR'].apply(int).apply(str) + ':' + vancouver_crimes.loc[subset, 'MINUTE'].apply(int).apply(str) + ':00'\n",
    "times = pd.DatetimeIndex(pd.to_datetime(times, format = fmt))\n",
    "\n",
    "vancouver_crimes['FIRST_OCCURRENCE_TIME'] = None\n",
    "vancouver_crimes.loc[subset, 'FIRST_OCCURRENCE_TIME'] = times.time"
   ]
  },
  {
   "cell_type": "markdown",
   "metadata": {},
   "source": [
    "Crime reported time and end time are not given so they will be null  \n",
    "NOTE: Technically in the Vancouver crime data description, the HOUR and MINUTE correspond to when the crime occurred - \"A numeric field that indicates the month when the reported crime activity occurred\" and so matches with the Day/Month/Year data as well. However, in the deliverable PDF we will assume HOUR and MINUTE are when the crime was reported"
   ]
  },
  {
   "cell_type": "code",
   "execution_count": 73,
   "metadata": {},
   "outputs": [],
   "source": [
    "# Set start and end time null\n",
    "\n",
    "vancouver_crimes['REPORTED_TIME'] = None\n",
    "vancouver_crimes['LAST_OCCURRENCE_TIME'] = None"
   ]
  },
  {
   "cell_type": "markdown",
   "metadata": {},
   "source": [
    "First let's add violent/non-violent category based on the type name"
   ]
  },
  {
   "cell_type": "code",
   "execution_count": 74,
   "metadata": {},
   "outputs": [],
   "source": [
    "# Mappings for violent/non-violent\n",
    "\n",
    "violent_mappings = [\n",
    "    ('Break and Enter Commercial', False),\n",
    "    ('Break and Enter Residential/Other', False),\n",
    "    ('Homicide', True),\n",
    "    ('Mischief', False),\n",
    "    ('Offence Against a Person', True),\n",
    "    ('Other Theft', False),\n",
    "    ('Theft from Vehicle', False),\n",
    "    ('Theft of Bicycle', False),\n",
    "    ('Theft of Vehicle', False),\n",
    "    ('Vehicle Collision or Pedestrian Struck (with Fatality)', False),\n",
    "    ('Vehicle Collision or Pedestrian Struck (with Injury)', False)\n",
    "]\n",
    "\n",
    "violent_mappings = pd.DataFrame(violent_mappings, columns = ['TYPE', 'IS_VIOLENT'])\n",
    "\n",
    "# Add is violent column\n",
    "vancouver_crimes = vancouver_crimes.merge(violent_mappings, how = 'left', on = 'TYPE')"
   ]
  },
  {
   "cell_type": "markdown",
   "metadata": {},
   "source": [
    "To keep consistent crime types and categories with Denver crime data, we will map each type to an Offense Type in the Denver data. We will then assign each crime type a category from the Denver data as wel. The mapping is manually created by finding the best match for given Type. For those which are too vague, None is assigned instead"
   ]
  },
  {
   "cell_type": "code",
   "execution_count": 75,
   "metadata": {},
   "outputs": [],
   "source": [
    "# Create mappings for Vancouver crime types\n",
    "category_mappings = [\n",
    "    ('Break and Enter Commercial', 'Burglary'),\n",
    "    ('Break and Enter Residential/Other', 'Burglary'),\n",
    "    ('Homicide', 'Murder'),\n",
    "    ('Mischief', 'Public Disorder'),\n",
    "    ('Offence Against a Person', 'Other Crimes Against Persons'),\n",
    "    ('Other Theft', 'Larceny'),\n",
    "    ('Theft from Vehicle', 'Theft from Motor Vehicle'),\n",
    "    ('Theft of Bicycle', 'Larceny'),\n",
    "    ('Theft of Vehicle', 'Auto Theft'),\n",
    "    ('Vehicle Collision or Pedestrian Struck (with Fatality)', 'Traffic Accident'),\n",
    "    ('Vehicle Collision or Pedestrian Struck (with Injury)', 'Traffic Accident')\n",
    "]\n",
    "\n",
    "category_mappings = pd.DataFrame(category_mappings, columns = ['TYPE', 'OFFENSE_CATEGORY_NAME'])\n",
    "\n",
    "type_mappings = [\n",
    "    ('Break and Enter Commercial', 'Burglary of a business with forced entry'),\n",
    "    ('Break and Enter Residential/Other', 'Burglary of a residence with forced entry'),\n",
    "    ('Homicide', None),\n",
    "    ('Mischief', None),\n",
    "    ('Offence Against a Person', None),\n",
    "    ('Other Theft', None),\n",
    "    ('Theft from Vehicle', None),\n",
    "    ('Theft of Bicycle', 'Bicycle theft'),\n",
    "    ('Theft of Vehicle', 'Motor vehicle theft'),\n",
    "    ('Vehicle Collision or Pedestrian Struck (with Fatality)', None),\n",
    "    ('Vehicle Collision or Pedestrian Struck (with Injury)', None)\n",
    "]\n",
    "\n",
    "type_mappings = pd.DataFrame(type_mappings, columns = ['TYPE', 'OFFENSE_TYPE_NAME'])\n",
    "\n",
    "# Join mappings\n",
    "vancouver_crimes = vancouver_crimes.merge(type_mappings, how = 'left', on = 'TYPE')\n",
    "vancouver_crimes = vancouver_crimes.merge(category_mappings, how = 'left', on = 'TYPE')"
   ]
  },
  {
   "cell_type": "markdown",
   "metadata": {},
   "source": [
    "## Facts"
   ]
  },
  {
   "cell_type": "markdown",
   "metadata": {},
   "source": [
    "Add facts/measures to each row since each row represents a crime"
   ]
  },
  {
   "cell_type": "code",
   "execution_count": 76,
   "metadata": {},
   "outputs": [],
   "source": [
    "# Is Traffic\n",
    "vancouver_crimes['IS_TRAFFIC'] = vancouver_crimes.OFFENSE_CATEGORY_NAME == 'Traffic Accident'\n",
    "\n",
    "# Is Fatal\n",
    "vancouver_crimes['IS_FATAL'] = vancouver_crimes.OFFENSE_CATEGORY_NAME == 'Murder'\n",
    "\n",
    "# Is Nighttime\n",
    "night_start = time(hour = 20, minute = 0, second = 0)\n",
    "night_end = time(hour = 5, minute = 0, second = 0)\n",
    "vancouver_crimes['IS_NIGHTTIME'] = (vancouver_crimes.FIRST_OCCURRENCE_TIME > night_start) | (vancouver_crimes.FIRST_OCCURRENCE_TIME < night_end)\n",
    "vancouver_crimes.loc[vancouver_crimes.FIRST_OCCURRENCE_TIME.isnull(), 'IS_NIGHTTIME'] = pd.NA"
   ]
  },
  {
   "cell_type": "markdown",
   "metadata": {},
   "source": [
    "## Reformat"
   ]
  },
  {
   "cell_type": "markdown",
   "metadata": {},
   "source": [
    "Reformat to match closer with dimensional model"
   ]
  },
  {
   "cell_type": "code",
   "execution_count": 77,
   "metadata": {},
   "outputs": [],
   "source": [
    "# Drop unused\n",
    "cols_drop = ['X', 'Y', 'TYPE', 'YEAR', 'MONTH', 'DAY', 'HOUR', 'MINUTE']\n",
    "vancouver_crimes.drop(cols_drop, axis = 1, inplace = True)"
   ]
  },
  {
   "cell_type": "code",
   "execution_count": 78,
   "metadata": {},
   "outputs": [],
   "source": [
    "# Rename\n",
    "vancouver_crimes = vancouver_crimes.rename(\n",
    "    columns = \n",
    "    {'OFFENSE_TYPE_NAME': 'OFFENSE_TYPE',\n",
    "     'OFFENSE_CATEGORY_NAME': 'OFFENSE_CATEGORY',\n",
    "     'NEIGHBOURHOOD': 'NEIGHBORHOOD',\n",
    "     'Latitude': 'LATITUDE',\n",
    "     'Longitude': 'LONGITUDE',\n",
    "     'HUNDRED_BLOCK': 'LOCATION'\n",
    "    }\n",
    ")"
   ]
  },
  {
   "cell_type": "code",
   "execution_count": 79,
   "metadata": {},
   "outputs": [
    {
     "data": {
      "text/html": [
       "<div>\n",
       "<style scoped>\n",
       "    .dataframe tbody tr th:only-of-type {\n",
       "        vertical-align: middle;\n",
       "    }\n",
       "\n",
       "    .dataframe tbody tr th {\n",
       "        vertical-align: top;\n",
       "    }\n",
       "\n",
       "    .dataframe thead th {\n",
       "        text-align: right;\n",
       "    }\n",
       "</style>\n",
       "<table border=\"1\" class=\"dataframe\">\n",
       "  <thead>\n",
       "    <tr style=\"text-align: right;\">\n",
       "      <th></th>\n",
       "      <th>LOCATION</th>\n",
       "      <th>NEIGHBORHOOD</th>\n",
       "      <th>LATITUDE</th>\n",
       "      <th>LONGITUDE</th>\n",
       "      <th>FIRST_OCCURRENCE_DATE</th>\n",
       "      <th>CITY</th>\n",
       "      <th>FIRST_OCCURRENCE_TIME</th>\n",
       "      <th>REPORTED_TIME</th>\n",
       "      <th>LAST_OCCURRENCE_TIME</th>\n",
       "      <th>IS_VIOLENT</th>\n",
       "      <th>OFFENSE_TYPE</th>\n",
       "      <th>OFFENSE_CATEGORY</th>\n",
       "      <th>IS_TRAFFIC</th>\n",
       "      <th>IS_FATAL</th>\n",
       "      <th>IS_NIGHTTIME</th>\n",
       "    </tr>\n",
       "  </thead>\n",
       "  <tbody>\n",
       "    <tr>\n",
       "      <th>0</th>\n",
       "      <td>NaN</td>\n",
       "      <td>Oakridge</td>\n",
       "      <td>49.233614</td>\n",
       "      <td>-123.119712</td>\n",
       "      <td>2012-12-14</td>\n",
       "      <td>Vancouver</td>\n",
       "      <td>08:52:00</td>\n",
       "      <td>None</td>\n",
       "      <td>None</td>\n",
       "      <td>False</td>\n",
       "      <td>Burglary of a business with forced entry</td>\n",
       "      <td>Burglary</td>\n",
       "      <td>False</td>\n",
       "      <td>False</td>\n",
       "      <td>False</td>\n",
       "    </tr>\n",
       "    <tr>\n",
       "      <th>1</th>\n",
       "      <td>10XX SITKA SQ</td>\n",
       "      <td>Fairview</td>\n",
       "      <td>49.266678</td>\n",
       "      <td>-123.129029</td>\n",
       "      <td>2019-03-07</td>\n",
       "      <td>Vancouver</td>\n",
       "      <td>02:06:00</td>\n",
       "      <td>None</td>\n",
       "      <td>None</td>\n",
       "      <td>False</td>\n",
       "      <td>Burglary of a business with forced entry</td>\n",
       "      <td>Burglary</td>\n",
       "      <td>False</td>\n",
       "      <td>False</td>\n",
       "      <td>True</td>\n",
       "    </tr>\n",
       "    <tr>\n",
       "      <th>2</th>\n",
       "      <td>10XX ALBERNI ST</td>\n",
       "      <td>West End</td>\n",
       "      <td>49.285255</td>\n",
       "      <td>-123.123649</td>\n",
       "      <td>2019-08-27</td>\n",
       "      <td>Vancouver</td>\n",
       "      <td>04:12:00</td>\n",
       "      <td>None</td>\n",
       "      <td>None</td>\n",
       "      <td>False</td>\n",
       "      <td>Burglary of a business with forced entry</td>\n",
       "      <td>Burglary</td>\n",
       "      <td>False</td>\n",
       "      <td>False</td>\n",
       "      <td>True</td>\n",
       "    </tr>\n",
       "    <tr>\n",
       "      <th>3</th>\n",
       "      <td>10XX ALBERNI ST</td>\n",
       "      <td>West End</td>\n",
       "      <td>49.285181</td>\n",
       "      <td>-123.123536</td>\n",
       "      <td>2014-08-08</td>\n",
       "      <td>Vancouver</td>\n",
       "      <td>05:13:00</td>\n",
       "      <td>None</td>\n",
       "      <td>None</td>\n",
       "      <td>False</td>\n",
       "      <td>Burglary of a business with forced entry</td>\n",
       "      <td>Burglary</td>\n",
       "      <td>False</td>\n",
       "      <td>False</td>\n",
       "      <td>False</td>\n",
       "    </tr>\n",
       "    <tr>\n",
       "      <th>4</th>\n",
       "      <td>10XX ALBERNI ST</td>\n",
       "      <td>West End</td>\n",
       "      <td>49.285132</td>\n",
       "      <td>-123.123461</td>\n",
       "      <td>2005-11-14</td>\n",
       "      <td>Vancouver</td>\n",
       "      <td>03:09:00</td>\n",
       "      <td>None</td>\n",
       "      <td>None</td>\n",
       "      <td>False</td>\n",
       "      <td>Burglary of a business with forced entry</td>\n",
       "      <td>Burglary</td>\n",
       "      <td>False</td>\n",
       "      <td>False</td>\n",
       "      <td>True</td>\n",
       "    </tr>\n",
       "  </tbody>\n",
       "</table>\n",
       "</div>"
      ],
      "text/plain": [
       "          LOCATION NEIGHBORHOOD   LATITUDE   LONGITUDE  ... OFFENSE_CATEGORY IS_TRAFFIC IS_FATAL IS_NIGHTTIME\n",
       "0              NaN     Oakridge  49.233614 -123.119712  ...         Burglary      False    False        False\n",
       "1    10XX SITKA SQ     Fairview  49.266678 -123.129029  ...         Burglary      False    False         True\n",
       "2  10XX ALBERNI ST     West End  49.285255 -123.123649  ...         Burglary      False    False         True\n",
       "3  10XX ALBERNI ST     West End  49.285181 -123.123536  ...         Burglary      False    False        False\n",
       "4  10XX ALBERNI ST     West End  49.285132 -123.123461  ...         Burglary      False    False         True\n",
       "\n",
       "[5 rows x 15 columns]"
      ]
     },
     "execution_count": 79,
     "metadata": {},
     "output_type": "execute_result"
    },
    {
     "data": {
      "text/plain": [
       "LOCATION                   0.002050\n",
       "NEIGHBORHOOD              10.377626\n",
       "LATITUDE                  10.373842\n",
       "LONGITUDE                 10.373842\n",
       "FIRST_OCCURRENCE_DATE      0.000000\n",
       "CITY                       0.000000\n",
       "FIRST_OCCURRENCE_TIME      9.917103\n",
       "REPORTED_TIME            100.000000\n",
       "LAST_OCCURRENCE_TIME     100.000000\n",
       "IS_VIOLENT                 0.000000\n",
       "OFFENSE_TYPE              71.624745\n",
       "OFFENSE_CATEGORY           0.000000\n",
       "IS_TRAFFIC                 0.000000\n",
       "IS_FATAL                   0.000000\n",
       "IS_NIGHTTIME               9.917103\n",
       "dtype: float64"
      ]
     },
     "execution_count": 79,
     "metadata": {},
     "output_type": "execute_result"
    }
   ],
   "source": [
    "# View preprocessed data\n",
    "\n",
    "vancouver_crimes.head()\n",
    "vancouver_crimes.isnull().mean() * 100"
   ]
  },
  {
   "cell_type": "code",
   "execution_count": 80,
   "metadata": {},
   "outputs": [],
   "source": [
    "# Save preprocessed crime data\n",
    "\n",
    "vancouver_crimes.to_csv(vancouver_data_path + 'crime_vancouver_preprocessed.csv', index = False)"
   ]
  },
  {
   "cell_type": "markdown",
   "metadata": {},
   "source": [
    "# Combine Denver and Vancouver data"
   ]
  },
  {
   "cell_type": "markdown",
   "metadata": {},
   "source": [
    "First we must only consider crimes in Denver and Vancouver that cover the same time periods"
   ]
  },
  {
   "cell_type": "code",
   "execution_count": 81,
   "metadata": {},
   "outputs": [],
   "source": [
    "# Intersection of date ranges\n",
    "\n",
    "min_date = max(denver_crimes.FIRST_OCCURRENCE_DATE.min(), vancouver_crimes.FIRST_OCCURRENCE_DATE.min())\n",
    "\n",
    "denver_crimes = denver_crimes.loc[denver_crimes.FIRST_OCCURRENCE_DATE >= min_date]\n",
    "vancouver_crimes = vancouver_crimes.loc[vancouver_crimes.FIRST_OCCURRENCE_DATE >= min_date]"
   ]
  },
  {
   "cell_type": "code",
   "execution_count": 82,
   "metadata": {},
   "outputs": [
    {
     "data": {
      "text/plain": [
       "LOCATION                  6.689017\n",
       "NEIGHBORHOOD              2.620570\n",
       "LATITUDE                  2.618283\n",
       "LONGITUDE                 2.618283\n",
       "FIRST_OCCURRENCE_DATE     0.000000\n",
       "CITY                      0.000000\n",
       "FIRST_OCCURRENCE_TIME     2.531231\n",
       "REPORTED_TIME            29.467653\n",
       "LAST_OCCURRENCE_TIME     77.781030\n",
       "IS_VIOLENT                0.000000\n",
       "OFFENSE_TYPE             22.598433\n",
       "OFFENSE_CATEGORY          0.000000\n",
       "IS_TRAFFIC                0.000000\n",
       "IS_FATAL                  0.000000\n",
       "IS_NIGHTTIME              2.531231\n",
       "dtype: float64"
      ]
     },
     "execution_count": 82,
     "metadata": {},
     "output_type": "execute_result"
    },
    {
     "data": {
      "text/html": [
       "<div>\n",
       "<style scoped>\n",
       "    .dataframe tbody tr th:only-of-type {\n",
       "        vertical-align: middle;\n",
       "    }\n",
       "\n",
       "    .dataframe tbody tr th {\n",
       "        vertical-align: top;\n",
       "    }\n",
       "\n",
       "    .dataframe thead th {\n",
       "        text-align: right;\n",
       "    }\n",
       "</style>\n",
       "<table border=\"1\" class=\"dataframe\">\n",
       "  <thead>\n",
       "    <tr style=\"text-align: right;\">\n",
       "      <th></th>\n",
       "      <th>LOCATION</th>\n",
       "      <th>NEIGHBORHOOD</th>\n",
       "      <th>LATITUDE</th>\n",
       "      <th>LONGITUDE</th>\n",
       "      <th>FIRST_OCCURRENCE_DATE</th>\n",
       "      <th>CITY</th>\n",
       "      <th>FIRST_OCCURRENCE_TIME</th>\n",
       "      <th>REPORTED_TIME</th>\n",
       "      <th>LAST_OCCURRENCE_TIME</th>\n",
       "      <th>IS_VIOLENT</th>\n",
       "      <th>OFFENSE_TYPE</th>\n",
       "      <th>OFFENSE_CATEGORY</th>\n",
       "      <th>IS_TRAFFIC</th>\n",
       "      <th>IS_FATAL</th>\n",
       "      <th>IS_NIGHTTIME</th>\n",
       "    </tr>\n",
       "  </thead>\n",
       "  <tbody>\n",
       "    <tr>\n",
       "      <th>0</th>\n",
       "      <td>10XX SITKA SQ</td>\n",
       "      <td>Fairview</td>\n",
       "      <td>49.266678</td>\n",
       "      <td>-123.129029</td>\n",
       "      <td>2019-03-07</td>\n",
       "      <td>Vancouver</td>\n",
       "      <td>02:06:00</td>\n",
       "      <td>None</td>\n",
       "      <td>None</td>\n",
       "      <td>False</td>\n",
       "      <td>Burglary of a business with forced entry</td>\n",
       "      <td>Burglary</td>\n",
       "      <td>False</td>\n",
       "      <td>False</td>\n",
       "      <td>True</td>\n",
       "    </tr>\n",
       "    <tr>\n",
       "      <th>1</th>\n",
       "      <td>10XX ALBERNI ST</td>\n",
       "      <td>West End</td>\n",
       "      <td>49.285255</td>\n",
       "      <td>-123.123649</td>\n",
       "      <td>2019-08-27</td>\n",
       "      <td>Vancouver</td>\n",
       "      <td>04:12:00</td>\n",
       "      <td>None</td>\n",
       "      <td>None</td>\n",
       "      <td>False</td>\n",
       "      <td>Burglary of a business with forced entry</td>\n",
       "      <td>Burglary</td>\n",
       "      <td>False</td>\n",
       "      <td>False</td>\n",
       "      <td>True</td>\n",
       "    </tr>\n",
       "    <tr>\n",
       "      <th>2</th>\n",
       "      <td>10XX ALBERNI ST</td>\n",
       "      <td>West End</td>\n",
       "      <td>49.284981</td>\n",
       "      <td>-123.123053</td>\n",
       "      <td>2017-11-14</td>\n",
       "      <td>Vancouver</td>\n",
       "      <td>20:00:00</td>\n",
       "      <td>None</td>\n",
       "      <td>None</td>\n",
       "      <td>False</td>\n",
       "      <td>Burglary of a business with forced entry</td>\n",
       "      <td>Burglary</td>\n",
       "      <td>False</td>\n",
       "      <td>False</td>\n",
       "      <td>False</td>\n",
       "    </tr>\n",
       "    <tr>\n",
       "      <th>3</th>\n",
       "      <td>10XX ALBERNI ST</td>\n",
       "      <td>West End</td>\n",
       "      <td>49.284794</td>\n",
       "      <td>-123.122946</td>\n",
       "      <td>2018-03-02</td>\n",
       "      <td>Vancouver</td>\n",
       "      <td>06:17:00</td>\n",
       "      <td>None</td>\n",
       "      <td>None</td>\n",
       "      <td>False</td>\n",
       "      <td>Burglary of a business with forced entry</td>\n",
       "      <td>Burglary</td>\n",
       "      <td>False</td>\n",
       "      <td>False</td>\n",
       "      <td>False</td>\n",
       "    </tr>\n",
       "    <tr>\n",
       "      <th>4</th>\n",
       "      <td>10XX ALBERNI ST</td>\n",
       "      <td>West End</td>\n",
       "      <td>49.284715</td>\n",
       "      <td>-123.122824</td>\n",
       "      <td>2015-02-04</td>\n",
       "      <td>Vancouver</td>\n",
       "      <td>20:53:00</td>\n",
       "      <td>None</td>\n",
       "      <td>None</td>\n",
       "      <td>False</td>\n",
       "      <td>Burglary of a business with forced entry</td>\n",
       "      <td>Burglary</td>\n",
       "      <td>False</td>\n",
       "      <td>False</td>\n",
       "      <td>True</td>\n",
       "    </tr>\n",
       "  </tbody>\n",
       "</table>\n",
       "</div>"
      ],
      "text/plain": [
       "          LOCATION NEIGHBORHOOD   LATITUDE   LONGITUDE  ... OFFENSE_CATEGORY IS_TRAFFIC IS_FATAL IS_NIGHTTIME\n",
       "0    10XX SITKA SQ     Fairview  49.266678 -123.129029  ...         Burglary      False    False         True\n",
       "1  10XX ALBERNI ST     West End  49.285255 -123.123649  ...         Burglary      False    False         True\n",
       "2  10XX ALBERNI ST     West End  49.284981 -123.123053  ...         Burglary      False    False        False\n",
       "3  10XX ALBERNI ST     West End  49.284794 -123.122946  ...         Burglary      False    False        False\n",
       "4  10XX ALBERNI ST     West End  49.284715 -123.122824  ...         Burglary      False    False         True\n",
       "\n",
       "[5 rows x 15 columns]"
      ]
     },
     "execution_count": 82,
     "metadata": {},
     "output_type": "execute_result"
    }
   ],
   "source": [
    "# Combine and view\n",
    "\n",
    "all_crimes = pd.concat([vancouver_crimes, denver_crimes], ignore_index = True)\n",
    "all_crimes.isnull().mean() * 100\n",
    "all_crimes.head()"
   ]
  },
  {
   "cell_type": "code",
   "execution_count": 83,
   "metadata": {},
   "outputs": [],
   "source": [
    "# Save\n",
    "all_crimes.to_csv('../data/all_crimes.csv', index = False)"
   ]
  }
 ],
 "metadata": {
  "file_extension": ".py",
  "kernelspec": {
   "display_name": "Python [conda env:crime-data-mart]",
   "language": "python",
   "name": "conda-env-crime-data-mart-py"
  },
  "language_info": {
   "codemirror_mode": {
    "name": "ipython",
    "version": 3
   },
   "file_extension": ".py",
   "mimetype": "text/x-python",
   "name": "python",
   "nbconvert_exporter": "python",
   "pygments_lexer": "ipython3",
   "version": "3.7.6"
  },
  "mimetype": "text/x-python",
  "name": "python",
  "npconvert_exporter": "python",
  "pygments_lexer": "ipython3",
  "version": 3
 },
 "nbformat": 4,
 "nbformat_minor": 4
}
