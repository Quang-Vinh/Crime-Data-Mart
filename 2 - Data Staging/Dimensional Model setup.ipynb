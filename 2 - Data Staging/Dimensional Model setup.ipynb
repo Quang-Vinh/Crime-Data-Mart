{
 "cells": [
  {
   "cell_type": "code",
   "execution_count": 2,
   "metadata": {},
   "outputs": [
    {
     "ename": "ModuleNotFoundError",
     "evalue": "No module named 'md5'",
     "output_type": "error",
     "traceback": [
      "\u001b[1;31m---------------------------------------------------------------------------\u001b[0m",
      "\u001b[1;31mModuleNotFoundError\u001b[0m                       Traceback (most recent call last)",
      "\u001b[1;32m<ipython-input-2-b3d778a9d418>\u001b[0m in \u001b[0;36m<module>\u001b[1;34m\u001b[0m\n\u001b[0;32m      1\u001b[0m \u001b[1;32mfrom\u001b[0m \u001b[0mdatetime\u001b[0m \u001b[1;32mimport\u001b[0m \u001b[0mdatetime\u001b[0m\u001b[1;33m,\u001b[0m \u001b[0mdate\u001b[0m\u001b[1;33m,\u001b[0m \u001b[0mtime\u001b[0m\u001b[1;33m,\u001b[0m \u001b[0mtimedelta\u001b[0m\u001b[1;33m\u001b[0m\u001b[1;33m\u001b[0m\u001b[0m\n\u001b[0;32m      2\u001b[0m \u001b[1;32mimport\u001b[0m \u001b[0mdtale\u001b[0m\u001b[1;33m\u001b[0m\u001b[1;33m\u001b[0m\u001b[0m\n\u001b[1;32m----> 3\u001b[1;33m \u001b[1;32mimport\u001b[0m \u001b[0meventful\u001b[0m \u001b[1;31m# https://api.eventful.com/libs/python/\u001b[0m\u001b[1;33m\u001b[0m\u001b[1;33m\u001b[0m\u001b[0m\n\u001b[0m\u001b[0;32m      4\u001b[0m \u001b[1;32mimport\u001b[0m \u001b[0mholidays\u001b[0m\u001b[1;33m\u001b[0m\u001b[1;33m\u001b[0m\u001b[0m\n\u001b[0;32m      5\u001b[0m \u001b[1;32mimport\u001b[0m \u001b[0mnumpy\u001b[0m \u001b[1;32mas\u001b[0m \u001b[0mnp\u001b[0m\u001b[1;33m\u001b[0m\u001b[1;33m\u001b[0m\u001b[0m\n",
      "\u001b[1;32mD:\\ProgramData\\Anaconda3\\envs\\crime-data-mart\\lib\\site-packages\\eventful.py\u001b[0m in \u001b[0;36m<module>\u001b[1;34m\u001b[0m\n\u001b[0;32m     10\u001b[0m \u001b[0m__license__\u001b[0m   \u001b[1;33m=\u001b[0m \u001b[1;34m\"MIT\"\u001b[0m\u001b[1;33m\u001b[0m\u001b[1;33m\u001b[0m\u001b[0m\n\u001b[0;32m     11\u001b[0m \u001b[1;33m\u001b[0m\u001b[0m\n\u001b[1;32m---> 12\u001b[1;33m \u001b[1;32mimport\u001b[0m \u001b[0mmd5\u001b[0m\u001b[1;33m\u001b[0m\u001b[1;33m\u001b[0m\u001b[0m\n\u001b[0m\u001b[0;32m     13\u001b[0m \u001b[1;32mimport\u001b[0m \u001b[0murllib\u001b[0m\u001b[1;33m\u001b[0m\u001b[1;33m\u001b[0m\u001b[0m\n\u001b[0;32m     14\u001b[0m \u001b[1;33m\u001b[0m\u001b[0m\n",
      "\u001b[1;31mModuleNotFoundError\u001b[0m: No module named 'md5'"
     ]
    }
   ],
   "source": [
    "from datetime import datetime, date, time, timedelta\n",
    "import dtale\n",
    "import eventful # https://api.eventful.com/libs/python/\n",
    "import holidays\n",
    "import numpy as np\n",
    "import pandas as pd\n",
    "\n",
    "pd.options.display.max_rows = 100\n",
    "pd.options.display.max_columns = 0\n",
    "\n",
    "# Display all outputs\n",
    "from IPython.core.interactiveshell import InteractiveShell\n",
    "InteractiveShell.ast_node_interactivity = \"all\""
   ]
  },
  {
   "cell_type": "markdown",
   "metadata": {},
   "source": [
    "# Purpose"
   ]
  },
  {
   "cell_type": "markdown",
   "metadata": {},
   "source": [
    "Create DataFrames for each dimension and fact table"
   ]
  },
  {
   "cell_type": "code",
   "execution_count": null,
   "metadata": {},
   "outputs": [],
   "source": [
    "# Paths to data\n",
    "denver_data_path = '../data/denver_crime_data/'\n",
    "vancouver_data_path = '../data/vancouver_crime_data/'\n",
    "dimensions_path = '../data/dimensional_model/'\n",
    "\n",
    "# Load all crimes\n",
    "all_crimes = pd.read_csv('../data/all_crimes.csv')\n",
    "\n",
    "all_crimes.FIRST_OCCURRENCE_DATE = pd.DatetimeIndex(all_crimes.FIRST_OCCURRENCE_DATE)"
   ]
  },
  {
   "cell_type": "markdown",
   "metadata": {},
   "source": [
    "# Date Dimension"
   ]
  },
  {
   "cell_type": "code",
   "execution_count": null,
   "metadata": {},
   "outputs": [],
   "source": [
    "# Create date dim with all dates from earliest crime date to current date\n",
    "\n",
    "# Date dim date ranges\n",
    "start_date = all_crimes.FIRST_OCCURRENCE_DATE.min()\n",
    "end_date = pd.to_datetime(datetime.now())\n",
    "dates = pd.date_range(start = start_date, end = end_date)\n",
    "\n",
    "# Holiday information\n",
    "can_holidays = holidays.Canada()\n",
    "us_holidays = holidays.UnitedStates()\n",
    "\n",
    "# Get some date attributes\n",
    "days = [date.day for date in dates]\n",
    "months = [date.month for date in dates]\n",
    "years = [date.year for date in dates]\n",
    "day_of_years = [date.dayofyear for date in dates]\n",
    "week_of_years = [date.weekofyear for date in dates]\n",
    "weekdays = [date.weekday() + 1 for date in dates]\n",
    "quarters = [date.quarter for date in dates]\n",
    "month_starts = [date.is_month_start for date in dates]\n",
    "month_ends = [date.is_month_end for date in dates]\n",
    "year_starts = [date.is_year_start for date in dates]\n",
    "year_ends = [date.is_year_end for date in dates]\n",
    "\n",
    "# Get holidays\n",
    "date_can_holidays = [can_holidays.get(date) for date in dates]\n",
    "date_is_can_holidays = [not holiday is None for holiday in date_can_holidays]\n",
    "date_us_holidays = [us_holidays.get(date) for date in dates]\n",
    "date_is_us_holidays = [not holiday is None for holiday in date_us_holidays]\n",
    "\n",
    "# Data dimension\n",
    "date_dim = pd.DataFrame(\n",
    "    {\n",
    "        'DATE': dates,\n",
    "        'DAY': days,\n",
    "        'MONTH': months,\n",
    "        'YEAR': years,\n",
    "        'DAY_OF_YEAR': day_of_years,\n",
    "        'WEEK_OF_YEAR': week_of_years,\n",
    "        'WEEKDAY': weekdays,\n",
    "        'QUARTER': quarters,\n",
    "        'IS_MONTH_START': month_starts,\n",
    "        'IS_MONTH_END': month_ends,\n",
    "        'IS_YEAR_START': year_starts,\n",
    "        'IS_YEAR_END': year_ends,\n",
    "        'IS_CAN_HOLIDAY': date_is_can_holidays,\n",
    "        'CAN_HOLIDAY_NAME': date_can_holidays,\n",
    "        'IS_US_HOLIDAY': date_is_us_holidays,\n",
    "        'US_HOLIDAY_NAME': date_us_holidays\n",
    "    }\n",
    ")\n",
    "\n",
    "# Add surrogate date key as just date YYYYMMDD (From Kimball textbook)\n",
    "date_dim['DATE_PK'] = date_dim.DATE.dt.strftime('%Y%m%d').apply(int)\n",
    "\n",
    "date_dim.shape\n",
    "date_dim.head(10)"
   ]
  },
  {
   "cell_type": "code",
   "execution_count": null,
   "metadata": {},
   "outputs": [],
   "source": [
    "# Add surrogate key to all_crimes fact table\n",
    "all_crimes = all_crimes.merge(date_dim[['DATE_PK', 'DATE']], how = 'left', left_on = 'FIRST_OCCURRENCE_DATE', right_on = 'DATE').drop('DATE', axis = 1)\n",
    "\n",
    "# Save dimension\n",
    "date_dim.to_csv(dimensions_path + 'date_dimension.csv', index = False)"
   ]
  },
  {
   "cell_type": "markdown",
   "metadata": {},
   "source": [
    "# Location Dimension"
   ]
  },
  {
   "cell_type": "markdown",
   "metadata": {},
   "source": [
    "No data could be found for yearly demographic data on the population for both Denver and Vancouver and for per neighborhood. So instead, we will just store the city and neighborhood population for one year  \n",
    "\n",
    "- https://www12.statcan.gc.ca/census-recensement/2016/dp-pd/prof/details/page.cfm?Lang=E&Geo1=CSD&Code1=5915022&Geo2=PR&Code2=01&Data=Count&SearchText=5915022&SearchType=Begins&SearchPR=01&B1=All&Custom=&TABID=3\n",
    "- http://worldpopulationreview.com/us-cities/denver-population/"
   ]
  },
  {
   "cell_type": "code",
   "execution_count": null,
   "metadata": {},
   "outputs": [],
   "source": [
    "# Location dimension\n",
    "location_cols = ['LOCATION', 'NEIGHBORHOOD', 'LATITUDE', 'LONGITUDE', 'CITY']\n",
    "\n",
    "location_dim = all_crimes[location_cols].copy()\n",
    "location_dim.drop_duplicates(keep = 'first', inplace = True)\n",
    "\n",
    "# Add demographic data - Population and Crime Rate\n",
    "all_crimes['YEAR'] = all_crimes.FIRST_OCCURRENCE_DATE.dt.year\n",
    "\n",
    "# Add population\n",
    "denver_population = 716492 # Copy pasted from site above\n",
    "\n",
    "vancouver_demographics = pd.read_csv(vancouver_data_path + 'CensusProfile2016-ProfilRecensement2016-20200221013316.csv', encoding = 'ISO-8859-1', skiprows = 1)\n",
    "vancouver_population = int(vancouver_demographics.Total[1])\n",
    "\n",
    "city_populations = pd.DataFrame({'CITY': ['Denver', 'Vancouver'], \n",
    "                                 'CITY_POPULATION': [denver_population, vancouver_population],\n",
    "                                 'YEAR': [2018, 2016]})\n",
    "location_dim = location_dim.merge(city_populations, how = 'left', on = 'CITY')\n",
    "\n",
    "# Get number of crimes for given city and year \n",
    "num_crimes = city_populations.merge(all_crimes, how = 'left', on = ['CITY', 'YEAR']).CITY.value_counts().rename_axis('CITY').to_frame('NUMBER_CRIMES')\n",
    "location_dim = location_dim.merge(num_crimes, how = 'left', on = 'CITY')\n",
    "\n",
    "# Calculate crime rate \n",
    "location_dim['CRIME_RATE'] = (location_dim.NUMBER_CRIMES / location_dim.CITY_POPULATION) * 1e5\n",
    "\n",
    "# Drop temp columns\n",
    "all_crimes.drop('YEAR', axis = 1, inplace = True)\n",
    "location_dim.drop(['CITY_POPULATION', 'YEAR', 'NUMBER_CRIMES'], axis = 1, inplace = True)\n",
    "\n",
    "# Add surrogate PK\n",
    "location_dim['LOCATION_PK'] = np.arange(1, location_dim.shape[0] + 1)\n",
    "\n",
    "location_dim.shape\n",
    "location_dim.head(10)"
   ]
  },
  {
   "cell_type": "code",
   "execution_count": null,
   "metadata": {},
   "outputs": [],
   "source": [
    "# Add surrogate key to crime fact table\n",
    "all_crimes = all_crimes.merge(location_dim, how = 'left', on = location_cols)\n",
    "\n",
    "# Save dimension\n",
    "location_dim.to_csv(dimensions_path + 'location_dimension.csv', index = False)"
   ]
  },
  {
   "cell_type": "markdown",
   "metadata": {},
   "source": [
    "# Events"
   ]
  },
  {
   "cell_type": "code",
   "execution_count": null,
   "metadata": {},
   "outputs": [],
   "source": []
  },
  {
   "cell_type": "code",
   "execution_count": null,
   "metadata": {},
   "outputs": [],
   "source": []
  },
  {
   "cell_type": "code",
   "execution_count": null,
   "metadata": {},
   "outputs": [],
   "source": []
  }
 ],
 "metadata": {
  "kernelspec": {
   "display_name": "Python [conda env:crime-data-mart]",
   "language": "python",
   "name": "conda-env-crime-data-mart-py"
  },
  "language_info": {
   "codemirror_mode": {
    "name": "ipython",
    "version": 3
   },
   "file_extension": ".py",
   "mimetype": "text/x-python",
   "name": "python",
   "nbconvert_exporter": "python",
   "pygments_lexer": "ipython3",
   "version": "3.7.6"
  }
 },
 "nbformat": 4,
 "nbformat_minor": 4
}
